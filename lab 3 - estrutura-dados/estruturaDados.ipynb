{
 "cells": [
  {
   "cell_type": "markdown",
   "id": "6eb9912e-8f1e-41cd-b11b-2fe0a2a50a86",
   "metadata": {},
   "source": [
    "operacoes aritmeticas"
   ]
  },
  {
   "cell_type": "code",
   "execution_count": 10,
   "id": "0eaa33f1-f3ee-4949-bef8-c347cded1efe",
   "metadata": {},
   "outputs": [],
   "source": [
    "soma = 4+4\n",
    "sub = 4-3\n",
    "mul = 3*3\n",
    "divisao = 3/2\n",
    "potencia = 4**2\n",
    "modulo = 10 % 3"
   ]
  },
  {
   "cell_type": "code",
   "execution_count": 11,
   "id": "730aff5b-6d82-4022-b8c1-05207fff45ee",
   "metadata": {},
   "outputs": [
    {
     "name": "stdout",
     "output_type": "stream",
     "text": [
      "8 ,  1 ,  9 ,  1.5 ,  16 , 1\n"
     ]
    }
   ],
   "source": [
    "print(soma,\", \" ,subtracao,\", \",mul,\", \",divisao,\", \",potencia,\",\",modulo)"
   ]
  },
  {
   "cell_type": "markdown",
   "id": "4a1acef0-6e5e-4a64-92a2-7783efceb044",
   "metadata": {},
   "source": [
    "Funcao Type"
   ]
  },
  {
   "cell_type": "code",
   "execution_count": 13,
   "id": "a0dbbdc5-a519-4e26-abaf-7db89f5c155f",
   "metadata": {},
   "outputs": [
    {
     "data": {
      "text/plain": [
       "int"
      ]
     },
     "execution_count": 13,
     "metadata": {},
     "output_type": "execute_result"
    }
   ],
   "source": [
    "type(5)"
   ]
  },
  {
   "cell_type": "code",
   "execution_count": 14,
   "id": "1fcf90ea-e7ff-4a0a-a0f2-c65ee526e5b6",
   "metadata": {},
   "outputs": [
    {
     "data": {
      "text/plain": [
       "float"
      ]
     },
     "execution_count": 14,
     "metadata": {},
     "output_type": "execute_result"
    }
   ],
   "source": [
    "type(5.0)"
   ]
  },
  {
   "cell_type": "code",
   "execution_count": 15,
   "id": "8cc6e44c-b585-4b91-bc5e-38dd809925ab",
   "metadata": {},
   "outputs": [
    {
     "data": {
      "text/plain": [
       "str"
      ]
     },
     "execution_count": 15,
     "metadata": {},
     "output_type": "execute_result"
    }
   ],
   "source": [
    "a = \"i am live\"\n",
    "type(a)"
   ]
  },
  {
   "cell_type": "markdown",
   "id": "f6725f73-a507-4d4e-aefd-9e0d7c4ae0a8",
   "metadata": {},
   "source": [
    "Operacoes com numero float"
   ]
  },
  {
   "cell_type": "code",
   "execution_count": 16,
   "id": "6cc1b968-5cae-4f72-abfd-47c8f9dfa797",
   "metadata": {},
   "outputs": [
    {
     "data": {
      "text/plain": [
       "9.5"
      ]
     },
     "execution_count": 16,
     "metadata": {},
     "output_type": "execute_result"
    }
   ],
   "source": [
    "3.1 + 6.4"
   ]
  },
  {
   "cell_type": "code",
   "execution_count": 17,
   "id": "351f68ad-af99-4f0b-9e1c-169addeed627",
   "metadata": {},
   "outputs": [
    {
     "data": {
      "text/plain": [
       "8.0"
      ]
     },
     "execution_count": 17,
     "metadata": {},
     "output_type": "execute_result"
    }
   ],
   "source": [
    "4 + 4.0"
   ]
  },
  {
   "cell_type": "code",
   "execution_count": 18,
   "id": "26aa9337-e819-4bb4-bc53-dd18f3226fba",
   "metadata": {},
   "outputs": [
    {
     "data": {
      "text/plain": [
       "2.0"
      ]
     },
     "execution_count": 18,
     "metadata": {},
     "output_type": "execute_result"
    }
   ],
   "source": [
    "4 / 2"
   ]
  },
  {
   "cell_type": "code",
   "execution_count": 19,
   "id": "8d98edbd-aeac-4090-94cc-875a8a51763d",
   "metadata": {},
   "outputs": [
    {
     "data": {
      "text/plain": [
       "2"
      ]
     },
     "execution_count": 19,
     "metadata": {},
     "output_type": "execute_result"
    }
   ],
   "source": [
    "4 // 2"
   ]
  },
  {
   "cell_type": "code",
   "execution_count": 20,
   "id": "72be8e9d-63a3-4ed2-b59d-965279fe64aa",
   "metadata": {},
   "outputs": [
    {
     "data": {
      "text/plain": [
       "1.3333333333333333"
      ]
     },
     "execution_count": 20,
     "metadata": {},
     "output_type": "execute_result"
    }
   ],
   "source": [
    "4/3.0"
   ]
  },
  {
   "cell_type": "code",
   "execution_count": 21,
   "id": "76f8bae0-9ad1-4897-a18c-22b4c36b48b8",
   "metadata": {},
   "outputs": [
    {
     "data": {
      "text/plain": [
       "1.0"
      ]
     },
     "execution_count": 21,
     "metadata": {},
     "output_type": "execute_result"
    }
   ],
   "source": [
    "4//3.0"
   ]
  },
  {
   "cell_type": "code",
   "execution_count": null,
   "id": "0c528f3a-612d-488c-8fa0-7691af8494bc",
   "metadata": {},
   "outputs": [],
   "source": [
    "Conversao"
   ]
  },
  {
   "cell_type": "code",
   "execution_count": null,
   "id": "88b9a093-9232-4f38-b53d-2937df70d880",
   "metadata": {},
   "outputs": [],
   "source": [
    "float(9)"
   ]
  },
  {
   "cell_type": "code",
   "execution_count": null,
   "id": "a2a26b8a-8ed3-41b4-95ff-d94342ffee82",
   "metadata": {},
   "outputs": [],
   "source": [
    "int(6.0)"
   ]
  },
  {
   "cell_type": "code",
   "execution_count": null,
   "id": "eb32e1db-602e-4db8-b582-3ff83880f8f5",
   "metadata": {},
   "outputs": [],
   "source": [
    "int(6.5)"
   ]
  },
  {
   "cell_type": "code",
   "execution_count": null,
   "id": "dd420101-5c36-4933-b30c-5bec7f0cc4ca",
   "metadata": {},
   "outputs": [],
   "source": []
  },
  {
   "cell_type": "code",
   "execution_count": null,
   "id": "378d00da-1cbb-427e-8d8f-55d801bcafb1",
   "metadata": {},
   "outputs": [],
   "source": []
  },
  {
   "cell_type": "code",
   "execution_count": null,
   "id": "c8fcc3e7-4789-4746-b609-ea4668b0b89c",
   "metadata": {},
   "outputs": [],
   "source": []
  },
  {
   "cell_type": "code",
   "execution_count": null,
   "id": "b01805c6-5d1b-43ea-b531-09cf3f0b7e8c",
   "metadata": {},
   "outputs": [],
   "source": []
  },
  {
   "cell_type": "code",
   "execution_count": null,
   "id": "1ead5918-f780-416c-9361-48826b5dfb49",
   "metadata": {},
   "outputs": [],
   "source": []
  }
 ],
 "metadata": {
  "kernelspec": {
   "display_name": "Python 3 (ipykernel)",
   "language": "python",
   "name": "python3"
  },
  "language_info": {
   "codemirror_mode": {
    "name": "ipython",
    "version": 3
   },
   "file_extension": ".py",
   "mimetype": "text/x-python",
   "name": "python",
   "nbconvert_exporter": "python",
   "pygments_lexer": "ipython3",
   "version": "3.12.7"
  }
 },
 "nbformat": 4,
 "nbformat_minor": 5
}
