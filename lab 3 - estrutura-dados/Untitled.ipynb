{
 "cells": [
  {
   "cell_type": "markdown",
   "id": "b962156d-55ad-47e0-baa6-db68d8c3ba5c",
   "metadata": {},
   "source": [
    "dicionarios em python"
   ]
  },
  {
   "cell_type": "code",
   "execution_count": null,
   "id": "cf4114fa-2971-4c9e-8782-1b5d10304c74",
   "metadata": {},
   "outputs": [],
   "source": [
    "estudantes_lst = [\"pedro\",24, \"ana\",22,\"ronaldo\",26,\"janaina\",25]"
   ]
  },
  {
   "cell_type": "code",
   "execution_count": null,
   "id": "82ffd757-df42-4819-9433-8b389eafd112",
   "metadata": {},
   "outputs": [],
   "source": [
    "estudantes_lst"
   ]
  },
  {
   "cell_type": "code",
   "execution_count": null,
   "id": "7b8f593d-97e0-48db-8f98-b0ff987b5a97",
   "metadata": {},
   "outputs": [],
   "source": [
    "estudantes_dict = {\"pedro\":24,\"ana\":22,\"ronaldo\":26,\"janaina\":25}"
   ]
  },
  {
   "cell_type": "code",
   "execution_count": null,
   "id": "1eec0cad-dbfa-4a6a-8593-be8ed1694cd8",
   "metadata": {},
   "outputs": [],
   "source": [
    "estudantes_dict"
   ]
  },
  {
   "cell_type": "code",
   "execution_count": null,
   "id": "1035c10b-93e7-44c8-ad36-7da1fdce5237",
   "metadata": {},
   "outputs": [],
   "source": [
    "estudantes_dict[\"pedro\"]"
   ]
  },
  {
   "cell_type": "code",
   "execution_count": null,
   "id": "3c99d8de-4379-42e2-806c-a8bdebf9dbb3",
   "metadata": {},
   "outputs": [],
   "source": [
    "estudantes_dict[\"marcelo\"]=23"
   ]
  },
  {
   "cell_type": "code",
   "execution_count": null,
   "id": "0a7f98d8-36e0-4cec-8f5b-25560d0baa86",
   "metadata": {},
   "outputs": [],
   "source": [
    "estudantes_dict[\"marcelo\"]"
   ]
  },
  {
   "cell_type": "code",
   "execution_count": null,
   "id": "37283ea4-0a78-48a3-b13d-749ef5289814",
   "metadata": {},
   "outputs": [],
   "source": [
    "estudantes_dict.clear()"
   ]
  },
  {
   "cell_type": "code",
   "execution_count": null,
   "id": "3910594a-8470-47f7-b95e-c4fcfa090ca2",
   "metadata": {},
   "outputs": [],
   "source": []
  },
  {
   "cell_type": "code",
   "execution_count": null,
   "id": "3ed94520-3c94-4f68-96c6-79a373ade124",
   "metadata": {},
   "outputs": [],
   "source": []
  },
  {
   "cell_type": "code",
   "execution_count": null,
   "id": "53487804-c082-470e-b2d3-767d2debf468",
   "metadata": {},
   "outputs": [],
   "source": []
  },
  {
   "cell_type": "code",
   "execution_count": null,
   "id": "ee70e9c2-f5f6-4d9e-8dae-fbdea86ca120",
   "metadata": {},
   "outputs": [],
   "source": []
  },
  {
   "cell_type": "code",
   "execution_count": null,
   "id": "aedf63bc-b434-43cd-9a89-5afcc8935270",
   "metadata": {},
   "outputs": [],
   "source": []
  },
  {
   "cell_type": "code",
   "execution_count": null,
   "id": "accaa69d-7d9a-40ad-81d2-74ebb4c34ac9",
   "metadata": {},
   "outputs": [],
   "source": []
  },
  {
   "cell_type": "code",
   "execution_count": null,
   "id": "36b93727-d794-4b76-a2cb-f3934cd612c0",
   "metadata": {},
   "outputs": [],
   "source": []
  },
  {
   "cell_type": "code",
   "execution_count": null,
   "id": "3d89b878-9a4e-41e4-beef-7891b41489f4",
   "metadata": {},
   "outputs": [],
   "source": []
  },
  {
   "cell_type": "code",
   "execution_count": null,
   "id": "9f9eb994-e406-479f-9bb4-5ec9e5e55fe7",
   "metadata": {},
   "outputs": [],
   "source": []
  },
  {
   "cell_type": "code",
   "execution_count": null,
   "id": "61b96a1e-e666-472c-b460-23cb40248157",
   "metadata": {},
   "outputs": [],
   "source": []
  },
  {
   "cell_type": "code",
   "execution_count": null,
   "id": "048b13ab-2a48-486c-b199-d073845ce7d7",
   "metadata": {},
   "outputs": [],
   "source": []
  },
  {
   "cell_type": "code",
   "execution_count": null,
   "id": "c3ca678a-ab86-4048-8267-2fdd1e53dc1f",
   "metadata": {},
   "outputs": [],
   "source": []
  },
  {
   "cell_type": "code",
   "execution_count": null,
   "id": "330b0204-1da5-456c-94c9-cb7968bd8110",
   "metadata": {},
   "outputs": [],
   "source": []
  },
  {
   "cell_type": "code",
   "execution_count": null,
   "id": "123fd8d0-e1c1-424f-9cfa-405bc84c9366",
   "metadata": {},
   "outputs": [],
   "source": []
  },
  {
   "cell_type": "code",
   "execution_count": null,
   "id": "9b882d29-de7d-4e5f-9f7c-b10066a5d8c4",
   "metadata": {},
   "outputs": [],
   "source": []
  },
  {
   "cell_type": "code",
   "execution_count": null,
   "id": "25115788-73f6-47df-b3b2-cec6c9d9bbe8",
   "metadata": {},
   "outputs": [],
   "source": []
  },
  {
   "cell_type": "code",
   "execution_count": null,
   "id": "466cec2b-59cc-4b05-af50-f75a738eea00",
   "metadata": {},
   "outputs": [],
   "source": []
  },
  {
   "cell_type": "code",
   "execution_count": null,
   "id": "643f8725-63e5-4689-8758-4827b9ba2a31",
   "metadata": {},
   "outputs": [],
   "source": []
  },
  {
   "cell_type": "code",
   "execution_count": null,
   "id": "7eb5c659-ae83-42f0-9678-b56ffb34ccee",
   "metadata": {},
   "outputs": [],
   "source": []
  },
  {
   "cell_type": "code",
   "execution_count": null,
   "id": "59063892-f2a2-44c5-b59c-4b9c14ba8fb4",
   "metadata": {},
   "outputs": [],
   "source": []
  },
  {
   "cell_type": "code",
   "execution_count": null,
   "id": "ad9884ef-62d5-422e-9a17-90dce1e9a2ec",
   "metadata": {},
   "outputs": [],
   "source": []
  },
  {
   "cell_type": "code",
   "execution_count": null,
   "id": "046fe5e8-5ed6-4a7a-ad57-5c5021192320",
   "metadata": {},
   "outputs": [],
   "source": []
  },
  {
   "cell_type": "code",
   "execution_count": null,
   "id": "e9e07cd3-c6cd-4e81-899c-f6ad9ccac28d",
   "metadata": {},
   "outputs": [],
   "source": []
  },
  {
   "cell_type": "code",
   "execution_count": null,
   "id": "46ded069-dd6e-4126-b30b-9578e874f3bd",
   "metadata": {},
   "outputs": [],
   "source": []
  }
 ],
 "metadata": {
  "kernelspec": {
   "display_name": "Python 3 (ipykernel)",
   "language": "python",
   "name": "python3"
  },
  "language_info": {
   "codemirror_mode": {
    "name": "ipython",
    "version": 3
   },
   "file_extension": ".py",
   "mimetype": "text/x-python",
   "name": "python",
   "nbconvert_exporter": "python",
   "pygments_lexer": "ipython3",
   "version": "3.12.7"
  }
 },
 "nbformat": 4,
 "nbformat_minor": 5
}
