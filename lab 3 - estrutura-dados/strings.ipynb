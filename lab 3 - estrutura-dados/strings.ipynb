{
 "cells": [
  {
   "cell_type": "code",
   "execution_count": 1,
   "id": "0873cd65-6ff7-4c64-925a-d8f2507dceaa",
   "metadata": {},
   "outputs": [
    {
     "data": {
      "text/plain": [
       "'oi'"
      ]
     },
     "execution_count": 1,
     "metadata": {},
     "output_type": "execute_result"
    }
   ],
   "source": [
    "\"oi\""
   ]
  },
  {
   "cell_type": "code",
   "execution_count": 2,
   "id": "bc5df546-9c34-4348-a334-66c1ef899339",
   "metadata": {},
   "outputs": [
    {
     "data": {
      "text/plain": [
       "'criei uma frase'"
      ]
     },
     "execution_count": 2,
     "metadata": {},
     "output_type": "execute_result"
    }
   ],
   "source": [
    "\"criei uma frase\""
   ]
  },
  {
   "cell_type": "code",
   "execution_count": 3,
   "id": "0dc1973e-1cfe-4f50-bfbc-57d6cb7bb1ee",
   "metadata": {},
   "outputs": [
    {
     "data": {
      "text/plain": [
       "'podemos usar aspas duplas ou aspas simples em string no Python'"
      ]
     },
     "execution_count": 3,
     "metadata": {},
     "output_type": "execute_result"
    }
   ],
   "source": [
    "\"podemos usar aspas duplas ou aspas simples em string no Python\""
   ]
  },
  {
   "cell_type": "code",
   "execution_count": 4,
   "id": "af9ea314-db32-48ee-a51e-4d6f94cdb8ac",
   "metadata": {},
   "outputs": [
    {
     "data": {
      "text/plain": [
       "\"testando em 'Python'\""
      ]
     },
     "execution_count": 4,
     "metadata": {},
     "output_type": "execute_result"
    }
   ],
   "source": [
    "\"testando em 'Python'\""
   ]
  },
  {
   "cell_type": "markdown",
   "id": "55f4e4ac-1c2b-4753-8cd8-971f9638a53a",
   "metadata": {},
   "source": [
    "imprimir string"
   ]
  },
  {
   "cell_type": "code",
   "execution_count": 5,
   "id": "0a611e49-a860-4e89-9909-3b15d479b5d3",
   "metadata": {},
   "outputs": [
    {
     "name": "stdout",
     "output_type": "stream",
     "text": [
      "string em python\n"
     ]
    }
   ],
   "source": [
    "print(\"string em python\")"
   ]
  },
  {
   "cell_type": "code",
   "execution_count": 6,
   "id": "8e7e83d8-360a-498c-8ed1-0765e9ecec43",
   "metadata": {},
   "outputs": [
    {
     "name": "stdout",
     "output_type": "stream",
     "text": [
      "testando \n",
      "strings \n",
      "em \n",
      "python\n"
     ]
    }
   ],
   "source": [
    "print(\"testando \\nstrings \\nem \\npython\")"
   ]
  },
  {
   "cell_type": "code",
   "execution_count": 7,
   "id": "3c7a5664-c560-497a-ae52-ba9162622ea8",
   "metadata": {},
   "outputs": [
    {
     "name": "stdout",
     "output_type": "stream",
     "text": [
      "\n",
      "\n"
     ]
    }
   ],
   "source": [
    "print(\"\\n\")"
   ]
  },
  {
   "cell_type": "code",
   "execution_count": 11,
   "id": "8dcc65b3-4d20-4fba-8aff-9a88ace58e50",
   "metadata": {},
   "outputs": [],
   "source": [
    "s= \"esta noite\""
   ]
  },
  {
   "cell_type": "code",
   "execution_count": 12,
   "id": "6e6e9b7a-c500-43af-b557-52306bcbe48a",
   "metadata": {},
   "outputs": [
    {
     "name": "stdout",
     "output_type": "stream",
     "text": [
      "esta noite\n"
     ]
    }
   ],
   "source": [
    "print(s)"
   ]
  },
  {
   "cell_type": "code",
   "execution_count": 13,
   "id": "5de8968a-db70-47ff-84d0-6b4cf4e12380",
   "metadata": {},
   "outputs": [
    {
     "data": {
      "text/plain": [
       "'e'"
      ]
     },
     "execution_count": 13,
     "metadata": {},
     "output_type": "execute_result"
    }
   ],
   "source": [
    "s[0]"
   ]
  },
  {
   "cell_type": "code",
   "execution_count": 14,
   "id": "80f9c019-78eb-4435-8b1f-0828a7fe6956",
   "metadata": {},
   "outputs": [
    {
     "data": {
      "text/plain": [
       "'s'"
      ]
     },
     "execution_count": 14,
     "metadata": {},
     "output_type": "execute_result"
    }
   ],
   "source": [
    "s[1]"
   ]
  },
  {
   "cell_type": "code",
   "execution_count": 15,
   "id": "c1cc37ff-083c-476d-a803-a76fff0fcb9d",
   "metadata": {},
   "outputs": [
    {
     "data": {
      "text/plain": [
       "'t'"
      ]
     },
     "execution_count": 15,
     "metadata": {},
     "output_type": "execute_result"
    }
   ],
   "source": [
    "s[2]"
   ]
  },
  {
   "cell_type": "code",
   "execution_count": 16,
   "id": "905a8e61-6469-4c72-9ab0-e6e8434b06ea",
   "metadata": {},
   "outputs": [
    {
     "data": {
      "text/plain": [
       "'a'"
      ]
     },
     "execution_count": 16,
     "metadata": {},
     "output_type": "execute_result"
    }
   ],
   "source": [
    "s[3]"
   ]
  },
  {
   "cell_type": "code",
   "execution_count": 17,
   "id": "10d338db-5681-48d6-a43c-56776ce941c1",
   "metadata": {},
   "outputs": [
    {
     "data": {
      "text/plain": [
       "'sta noite'"
      ]
     },
     "execution_count": 17,
     "metadata": {},
     "output_type": "execute_result"
    }
   ],
   "source": [
    "s[1:]"
   ]
  },
  {
   "cell_type": "code",
   "execution_count": 18,
   "id": "0bc3602b-b740-478d-be93-6e81b1b7c36e",
   "metadata": {},
   "outputs": [
    {
     "data": {
      "text/plain": [
       "'esta noite'"
      ]
     },
     "execution_count": 18,
     "metadata": {},
     "output_type": "execute_result"
    }
   ],
   "source": [
    "s"
   ]
  },
  {
   "cell_type": "code",
   "execution_count": 19,
   "id": "1ca1dbbe-8b70-43e9-9f6f-7925d5f00357",
   "metadata": {},
   "outputs": [
    {
     "data": {
      "text/plain": [
       "'est'"
      ]
     },
     "execution_count": 19,
     "metadata": {},
     "output_type": "execute_result"
    }
   ],
   "source": [
    "s[:3]"
   ]
  },
  {
   "cell_type": "code",
   "execution_count": 20,
   "id": "24846fc9-3212-4c6d-b4d6-ac0a439db7ce",
   "metadata": {},
   "outputs": [
    {
     "data": {
      "text/plain": [
       "'esta noite'"
      ]
     },
     "execution_count": 20,
     "metadata": {},
     "output_type": "execute_result"
    }
   ],
   "source": [
    "s"
   ]
  },
  {
   "cell_type": "code",
   "execution_count": 21,
   "id": "71a13bb5-732a-4288-a19b-5d089d71a6f7",
   "metadata": {},
   "outputs": [
    {
     "data": {
      "text/plain": [
       "'e'"
      ]
     },
     "execution_count": 21,
     "metadata": {},
     "output_type": "execute_result"
    }
   ],
   "source": [
    "s[-1]"
   ]
  },
  {
   "cell_type": "code",
   "execution_count": 22,
   "id": "c290543b-930e-47d2-ba27-c1e56bc809df",
   "metadata": {},
   "outputs": [
    {
     "data": {
      "text/plain": [
       "'esta noite'"
      ]
     },
     "execution_count": 22,
     "metadata": {},
     "output_type": "execute_result"
    }
   ],
   "source": [
    "s"
   ]
  },
  {
   "cell_type": "code",
   "execution_count": 23,
   "id": "c4da8f1d-6a53-4dde-ae99-162ff0a913f8",
   "metadata": {},
   "outputs": [
    {
     "data": {
      "text/plain": [
       "'esta noit'"
      ]
     },
     "execution_count": 23,
     "metadata": {},
     "output_type": "execute_result"
    }
   ],
   "source": [
    "s[:-1]"
   ]
  },
  {
   "cell_type": "code",
   "execution_count": 24,
   "id": "b7155f17-8017-4d17-ada5-eeb5c8642be8",
   "metadata": {},
   "outputs": [
    {
     "data": {
      "text/plain": [
       "'esta noite'"
      ]
     },
     "execution_count": 24,
     "metadata": {},
     "output_type": "execute_result"
    }
   ],
   "source": [
    "s"
   ]
  },
  {
   "cell_type": "code",
   "execution_count": null,
   "id": "379dce06-6df3-4db5-a6f9-68ff1b132cd6",
   "metadata": {},
   "outputs": [],
   "source": []
  },
  {
   "cell_type": "code",
   "execution_count": null,
   "id": "9513f055-96b0-443a-ac92-78e8503d9061",
   "metadata": {},
   "outputs": [],
   "source": []
  },
  {
   "cell_type": "code",
   "execution_count": null,
   "id": "134e890a-3ab1-4ea4-82bd-885c8591ff8f",
   "metadata": {},
   "outputs": [],
   "source": []
  },
  {
   "cell_type": "code",
   "execution_count": null,
   "id": "d5788936-4ce4-49fa-98a9-57370a8c4f99",
   "metadata": {},
   "outputs": [],
   "source": []
  }
 ],
 "metadata": {
  "kernelspec": {
   "display_name": "Python 3 (ipykernel)",
   "language": "python",
   "name": "python3"
  },
  "language_info": {
   "codemirror_mode": {
    "name": "ipython",
    "version": 3
   },
   "file_extension": ".py",
   "mimetype": "text/x-python",
   "name": "python",
   "nbconvert_exporter": "python",
   "pygments_lexer": "ipython3",
   "version": "3.12.7"
  }
 },
 "nbformat": 4,
 "nbformat_minor": 5
}
