{
 "cells": [
  {
   "cell_type": "code",
   "execution_count": 5,
   "id": "b36fa6db-2cb7-429f-bd99-bee5f17c617f",
   "metadata": {},
   "outputs": [],
   "source": [
    "s = 'Mercado de Trabalho de Ciencia de Dados Esta Contratando'"
   ]
  },
  {
   "cell_type": "code",
   "execution_count": 9,
   "id": "f8d13fd5-95eb-4fea-bfbb-9b5ed379ebe8",
   "metadata": {},
   "outputs": [
    {
     "data": {
      "text/plain": [
       "'Mercado de Trabalho de Ciencia de Dados Esta Contratando'"
      ]
     },
     "execution_count": 9,
     "metadata": {},
     "output_type": "execute_result"
    }
   ],
   "source": [
    "s"
   ]
  },
  {
   "cell_type": "code",
   "execution_count": 10,
   "id": "09c891f2-3de2-42fe-ab12-8bf0febb7b20",
   "metadata": {},
   "outputs": [
    {
     "data": {
      "text/plain": [
       "'MERCADO DE TRABALHO DE CIENCIA DE DADOS ESTA CONTRATANDO'"
      ]
     },
     "execution_count": 10,
     "metadata": {},
     "output_type": "execute_result"
    }
   ],
   "source": [
    "s.upper()"
   ]
  },
  {
   "cell_type": "code",
   "execution_count": 7,
   "id": "28edceff-7726-4b9f-a648-b90034cb8cf7",
   "metadata": {},
   "outputs": [
    {
     "data": {
      "text/plain": [
       "'mercado de trabalho de ciencia de dados esta contratando'"
      ]
     },
     "execution_count": 7,
     "metadata": {},
     "output_type": "execute_result"
    }
   ],
   "source": [
    "s.lower()"
   ]
  },
  {
   "cell_type": "code",
   "execution_count": 8,
   "id": "14722f29-b795-4b2e-9cc2-da6c7e8c9e63",
   "metadata": {},
   "outputs": [
    {
     "data": {
      "text/plain": [
       "['Mercado',\n",
       " 'de',\n",
       " 'Trabalho',\n",
       " 'de',\n",
       " 'Ciencia',\n",
       " 'de',\n",
       " 'Dados',\n",
       " 'Esta',\n",
       " 'Contratando']"
      ]
     },
     "execution_count": 8,
     "metadata": {},
     "output_type": "execute_result"
    }
   ],
   "source": [
    "s.split()"
   ]
  },
  {
   "cell_type": "code",
   "execution_count": 11,
   "id": "fe979017-596d-4b83-b722-bc5d7eab718c",
   "metadata": {},
   "outputs": [
    {
     "data": {
      "text/plain": [
       "['Mer', 'ado de Trabalho de Cien', 'ia de Dados Esta Contratando']"
      ]
     },
     "execution_count": 11,
     "metadata": {},
     "output_type": "execute_result"
    }
   ],
   "source": [
    "s.split('c')"
   ]
  },
  {
   "cell_type": "code",
   "execution_count": null,
   "id": "f39f4c08-f8ac-44d3-ab86-84043e98f323",
   "metadata": {},
   "outputs": [],
   "source": []
  },
  {
   "cell_type": "code",
   "execution_count": null,
   "id": "9c529a32-d91d-49dc-91c8-9d63d9d2bc6a",
   "metadata": {},
   "outputs": [],
   "source": []
  },
  {
   "cell_type": "code",
   "execution_count": null,
   "id": "4ac59dcc-6ce1-434d-ba21-3939e6107334",
   "metadata": {},
   "outputs": [],
   "source": []
  },
  {
   "cell_type": "code",
   "execution_count": null,
   "id": "6c103ff6-e2ec-4912-bb93-839c33ecd71c",
   "metadata": {},
   "outputs": [],
   "source": []
  },
  {
   "cell_type": "code",
   "execution_count": null,
   "id": "6900b473-4dee-4e66-b3c7-72e3579e7788",
   "metadata": {},
   "outputs": [],
   "source": []
  },
  {
   "cell_type": "code",
   "execution_count": null,
   "id": "6d75faef-1943-4ca1-8cd3-2f0b5c2c0845",
   "metadata": {},
   "outputs": [],
   "source": []
  },
  {
   "cell_type": "code",
   "execution_count": null,
   "id": "446f15c8-2c91-4cdc-9a1c-2a235a3071eb",
   "metadata": {},
   "outputs": [],
   "source": []
  },
  {
   "cell_type": "code",
   "execution_count": null,
   "id": "d42c5023-d15c-41f1-9136-c5a01e17479a",
   "metadata": {},
   "outputs": [],
   "source": []
  },
  {
   "cell_type": "code",
   "execution_count": null,
   "id": "2acdbaff-7257-48c6-89ee-968c662a66ff",
   "metadata": {},
   "outputs": [],
   "source": []
  },
  {
   "cell_type": "code",
   "execution_count": null,
   "id": "cd46cbe4-93b8-4c43-a9b8-7b3a74cb5fad",
   "metadata": {},
   "outputs": [],
   "source": []
  },
  {
   "cell_type": "code",
   "execution_count": null,
   "id": "e005cc19-563d-4660-abef-7fa9d015ce3f",
   "metadata": {},
   "outputs": [],
   "source": []
  },
  {
   "cell_type": "code",
   "execution_count": null,
   "id": "4c08c4f6-56b6-44fa-967c-bbb3713d74b9",
   "metadata": {},
   "outputs": [],
   "source": []
  },
  {
   "cell_type": "code",
   "execution_count": null,
   "id": "c8c52ba4-696a-42ad-b82e-2eeabfdf87d9",
   "metadata": {},
   "outputs": [],
   "source": []
  },
  {
   "cell_type": "code",
   "execution_count": null,
   "id": "ac0f965b-8f67-4235-a579-14410af0844c",
   "metadata": {},
   "outputs": [],
   "source": []
  },
  {
   "cell_type": "code",
   "execution_count": null,
   "id": "6b11bb80-e2af-4112-b976-9f0e7272a5a0",
   "metadata": {},
   "outputs": [],
   "source": []
  },
  {
   "cell_type": "code",
   "execution_count": null,
   "id": "ae6115e4-7f4a-4812-927c-8e33e8756eb1",
   "metadata": {},
   "outputs": [],
   "source": []
  },
  {
   "cell_type": "code",
   "execution_count": null,
   "id": "e7a894da-885c-4e46-b44a-3f12ca9ba11e",
   "metadata": {},
   "outputs": [],
   "source": []
  },
  {
   "cell_type": "code",
   "execution_count": null,
   "id": "35160f7f-4369-4a64-9d0d-bdec367d4ad1",
   "metadata": {},
   "outputs": [],
   "source": []
  },
  {
   "cell_type": "code",
   "execution_count": null,
   "id": "4d1a6d04-220c-4b10-a6f3-3a91c4e9c4e9",
   "metadata": {},
   "outputs": [],
   "source": []
  },
  {
   "cell_type": "code",
   "execution_count": null,
   "id": "78fd26c9-52ad-4e01-af48-617d175a874c",
   "metadata": {},
   "outputs": [],
   "source": []
  },
  {
   "cell_type": "code",
   "execution_count": null,
   "id": "9f3b9bd4-ef9e-4408-9541-56c968882cf4",
   "metadata": {},
   "outputs": [],
   "source": []
  },
  {
   "cell_type": "code",
   "execution_count": null,
   "id": "09055652-c384-411e-a7a4-985b595b1a57",
   "metadata": {},
   "outputs": [],
   "source": []
  },
  {
   "cell_type": "code",
   "execution_count": null,
   "id": "8d117dcc-7139-482a-a226-2bc727faef4d",
   "metadata": {},
   "outputs": [],
   "source": []
  },
  {
   "cell_type": "code",
   "execution_count": null,
   "id": "91081875-6106-4ccc-be4a-fa40ce36b7cf",
   "metadata": {},
   "outputs": [],
   "source": []
  }
 ],
 "metadata": {
  "kernelspec": {
   "display_name": "Python 3 (ipykernel)",
   "language": "python",
   "name": "python3"
  },
  "language_info": {
   "codemirror_mode": {
    "name": "ipython",
    "version": 3
   },
   "file_extension": ".py",
   "mimetype": "text/x-python",
   "name": "python",
   "nbconvert_exporter": "python",
   "pygments_lexer": "ipython3",
   "version": "3.12.7"
  }
 },
 "nbformat": 4,
 "nbformat_minor": 5
}
