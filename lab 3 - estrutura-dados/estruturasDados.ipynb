{
 "cells": [
  {
   "cell_type": "markdown",
   "id": "62e09f03-bfaa-4070-822a-300fd80290be",
   "metadata": {},
   "source": [
    "trabalhando com listas"
   ]
  },
  {
   "cell_type": "code",
   "execution_count": 1,
   "id": "75226cc1-7851-4e90-ab78-3c616a8e3b10",
   "metadata": {},
   "outputs": [],
   "source": [
    "lista_1 = [\"arroz, frango, tomate, leite\"]"
   ]
  },
  {
   "cell_type": "code",
   "execution_count": 2,
   "id": "d62644b0-cfa6-4b61-afc1-62c77f69fe50",
   "metadata": {},
   "outputs": [
    {
     "data": {
      "text/plain": [
       "list"
      ]
     },
     "execution_count": 2,
     "metadata": {},
     "output_type": "execute_result"
    }
   ],
   "source": [
    "type(lista_1)"
   ]
  },
  {
   "cell_type": "code",
   "execution_count": 3,
   "id": "ff458768-0b17-4da2-ba41-1e0e6c87269d",
   "metadata": {},
   "outputs": [
    {
     "name": "stdout",
     "output_type": "stream",
     "text": [
      "['arroz, frango, tomate, leite']\n"
     ]
    }
   ],
   "source": [
    "print(lista_1)"
   ]
  },
  {
   "cell_type": "code",
   "execution_count": 4,
   "id": "5fd75711-637a-4e9c-8a70-64070656a128",
   "metadata": {},
   "outputs": [],
   "source": [
    "lista_2 = [\"arroz\",\"frango\",\"tomate\",\"leite\"]"
   ]
  },
  {
   "cell_type": "code",
   "execution_count": 5,
   "id": "417c8e5c-ae37-4e86-9178-c7c2190f2066",
   "metadata": {},
   "outputs": [
    {
     "data": {
      "text/plain": [
       "list"
      ]
     },
     "execution_count": 5,
     "metadata": {},
     "output_type": "execute_result"
    }
   ],
   "source": [
    "type(lista_2)"
   ]
  },
  {
   "cell_type": "code",
   "execution_count": 6,
   "id": "0c6db6de-a317-4521-b590-e609a2dcc8c0",
   "metadata": {},
   "outputs": [
    {
     "name": "stdout",
     "output_type": "stream",
     "text": [
      "['arroz', 'frango', 'tomate', 'leite']\n"
     ]
    }
   ],
   "source": [
    "print(lista_2)"
   ]
  },
  {
   "cell_type": "code",
   "execution_count": 8,
   "id": "b9d79da7-1199-40c3-865a-065e5745b0d3",
   "metadata": {},
   "outputs": [],
   "source": [
    "lista_3 = [23, 100, \"Cientista de Dados\"]"
   ]
  },
  {
   "cell_type": "code",
   "execution_count": 9,
   "id": "22ecfcf9-33ae-4e5c-b8b1-7f836ac8361d",
   "metadata": {},
   "outputs": [
    {
     "data": {
      "text/plain": [
       "list"
      ]
     },
     "execution_count": 9,
     "metadata": {},
     "output_type": "execute_result"
    }
   ],
   "source": [
    "type(lista_3)"
   ]
  },
  {
   "cell_type": "code",
   "execution_count": 10,
   "id": "0a47521b-0d19-44af-9055-4f0413794301",
   "metadata": {},
   "outputs": [],
   "source": [
    "item1 = lista_3[0]\n",
    "item2 = lista_3[1]\n",
    "item3 = lista_3[2]"
   ]
  },
  {
   "cell_type": "code",
   "execution_count": 11,
   "id": "88e72352-7c10-4bc3-8436-06aa1985ed9a",
   "metadata": {},
   "outputs": [
    {
     "name": "stdout",
     "output_type": "stream",
     "text": [
      "23 100 Cientista de Dados\n"
     ]
    }
   ],
   "source": [
    "print(item1,item2,item3)"
   ]
  },
  {
   "cell_type": "markdown",
   "id": "f5905e07-72ac-4370-ab4b-261ef4972b65",
   "metadata": {},
   "source": [
    "atualizando um item da lista"
   ]
  },
  {
   "cell_type": "code",
   "execution_count": 13,
   "id": "a778509e-ad85-471b-945c-4cb4f082c2e9",
   "metadata": {},
   "outputs": [
    {
     "data": {
      "text/plain": [
       "['arroz', 'frango', 'tomate', 'leite']"
      ]
     },
     "execution_count": 13,
     "metadata": {},
     "output_type": "execute_result"
    }
   ],
   "source": [
    "lista_2"
   ]
  },
  {
   "cell_type": "code",
   "execution_count": 14,
   "id": "8ad40da3-ad1b-4270-8d6b-e54a17cae8ef",
   "metadata": {},
   "outputs": [
    {
     "data": {
      "text/plain": [
       "'tomate'"
      ]
     },
     "execution_count": 14,
     "metadata": {},
     "output_type": "execute_result"
    }
   ],
   "source": [
    "lista_2[2]"
   ]
  },
  {
   "cell_type": "code",
   "execution_count": 15,
   "id": "53f9cdda-e82a-4dd3-8ac0-f7bdfdf50b4e",
   "metadata": {},
   "outputs": [],
   "source": [
    "lista_2[2] = \"chocolate\""
   ]
  },
  {
   "cell_type": "code",
   "execution_count": 16,
   "id": "73d9d5f4-6379-4adb-9e6e-03a7baaa64d9",
   "metadata": {},
   "outputs": [
    {
     "data": {
      "text/plain": [
       "['arroz', 'frango', 'chocolate', 'leite']"
      ]
     },
     "execution_count": 16,
     "metadata": {},
     "output_type": "execute_result"
    }
   ],
   "source": [
    "lista_2"
   ]
  },
  {
   "cell_type": "markdown",
   "id": "7a35094d-025a-4ef4-9ff1-b6eb63ea3c11",
   "metadata": {},
   "source": [
    "deletar item da lista"
   ]
  },
  {
   "cell_type": "code",
   "execution_count": 18,
   "id": "f16cccc3-d513-455b-91aa-99270dac05f8",
   "metadata": {},
   "outputs": [],
   "source": [
    "del lista_2[3]"
   ]
  },
  {
   "cell_type": "code",
   "execution_count": 19,
   "id": "694c6894-a14c-4fee-908b-1fc684cad8ba",
   "metadata": {},
   "outputs": [],
   "source": [
    "del lista_2[2]"
   ]
  },
  {
   "cell_type": "code",
   "execution_count": 20,
   "id": "6491c0dd-c321-4d78-a391-6f73c96cc03b",
   "metadata": {},
   "outputs": [
    {
     "data": {
      "text/plain": [
       "['arroz', 'frango']"
      ]
     },
     "execution_count": 20,
     "metadata": {},
     "output_type": "execute_result"
    }
   ],
   "source": [
    "lista_2"
   ]
  },
  {
   "cell_type": "markdown",
   "id": "7092e3ee-49f7-4a2b-8b9f-b8d678c2356b",
   "metadata": {},
   "source": [
    "listas de listas (listas aninhadas)"
   ]
  },
  {
   "cell_type": "code",
   "execution_count": 22,
   "id": "a00ea4a0-dfce-4ba8-afa2-746fc4b2e3b8",
   "metadata": {},
   "outputs": [],
   "source": [
    "listas = [[1,2,3],[10,15,14],[10.1,8.7,2.3]]"
   ]
  },
  {
   "cell_type": "code",
   "execution_count": 23,
   "id": "18e3583a-bc64-468e-bf6a-7ac83a22d53e",
   "metadata": {},
   "outputs": [
    {
     "name": "stdout",
     "output_type": "stream",
     "text": [
      "[[1, 2, 3], [10, 15, 14], [10.1, 8.7, 2.3]]\n"
     ]
    }
   ],
   "source": [
    "print(listas)"
   ]
  },
  {
   "cell_type": "code",
   "execution_count": 24,
   "id": "f7faaa1c-0169-45b0-a51d-61b741fea347",
   "metadata": {},
   "outputs": [],
   "source": [
    "a = listas[0]"
   ]
  },
  {
   "cell_type": "code",
   "execution_count": 25,
   "id": "07040557-8cb6-4e2f-a503-424a9c5d5146",
   "metadata": {},
   "outputs": [
    {
     "data": {
      "text/plain": [
       "[1, 2, 3]"
      ]
     },
     "execution_count": 25,
     "metadata": {},
     "output_type": "execute_result"
    }
   ],
   "source": [
    "a"
   ]
  },
  {
   "cell_type": "code",
   "execution_count": 26,
   "id": "40485662-6712-4c1e-9337-5336800439b6",
   "metadata": {},
   "outputs": [],
   "source": [
    "b = a[0]"
   ]
  },
  {
   "cell_type": "code",
   "execution_count": 27,
   "id": "66cbaf63-1c33-42fb-ac77-562f1bd83924",
   "metadata": {},
   "outputs": [
    {
     "data": {
      "text/plain": [
       "1"
      ]
     },
     "execution_count": 27,
     "metadata": {},
     "output_type": "execute_result"
    }
   ],
   "source": [
    "b"
   ]
  },
  {
   "cell_type": "code",
   "execution_count": 28,
   "id": "1c4d5c59-426a-4f3a-9d85-806f385e79ab",
   "metadata": {},
   "outputs": [],
   "source": [
    "list1 = listas[1]"
   ]
  },
  {
   "cell_type": "code",
   "execution_count": 29,
   "id": "12814572-b943-43a3-83fb-43a94b95715d",
   "metadata": {},
   "outputs": [
    {
     "data": {
      "text/plain": [
       "[10, 15, 14]"
      ]
     },
     "execution_count": 29,
     "metadata": {},
     "output_type": "execute_result"
    }
   ],
   "source": [
    "list1"
   ]
  },
  {
   "cell_type": "code",
   "execution_count": 30,
   "id": "6faa475f-9691-44a6-b326-7e1ceaaf50d4",
   "metadata": {},
   "outputs": [],
   "source": [
    "valor_1_0 = list1[0]"
   ]
  },
  {
   "cell_type": "code",
   "execution_count": 31,
   "id": "4f41e354-213b-4406-b931-a3bff8018350",
   "metadata": {},
   "outputs": [
    {
     "data": {
      "text/plain": [
       "10"
      ]
     },
     "execution_count": 31,
     "metadata": {},
     "output_type": "execute_result"
    }
   ],
   "source": [
    "valor_1_0"
   ]
  },
  {
   "cell_type": "code",
   "execution_count": 32,
   "id": "dc012c23-0232-4f68-bf86-bfeb906a6884",
   "metadata": {},
   "outputs": [],
   "source": [
    "valor_1_2 = list1[2]"
   ]
  },
  {
   "cell_type": "code",
   "execution_count": 33,
   "id": "bd166584-98b1-48e9-b02a-2fa403cfed7f",
   "metadata": {},
   "outputs": [
    {
     "data": {
      "text/plain": [
       "14"
      ]
     },
     "execution_count": 33,
     "metadata": {},
     "output_type": "execute_result"
    }
   ],
   "source": [
    "valor_1_2"
   ]
  },
  {
   "cell_type": "code",
   "execution_count": 34,
   "id": "84a1015a-64a0-48e3-8121-312788c52b10",
   "metadata": {},
   "outputs": [],
   "source": [
    "list2 = listas[2]"
   ]
  },
  {
   "cell_type": "code",
   "execution_count": 35,
   "id": "8ee86561-5e5b-465c-a985-77b0ddf4e81a",
   "metadata": {},
   "outputs": [
    {
     "data": {
      "text/plain": [
       "[10.1, 8.7, 2.3]"
      ]
     },
     "execution_count": 35,
     "metadata": {},
     "output_type": "execute_result"
    }
   ],
   "source": [
    "list2"
   ]
  },
  {
   "cell_type": "code",
   "execution_count": 36,
   "id": "c0369439-f9fb-4e50-98bc-c5394f303d0d",
   "metadata": {},
   "outputs": [],
   "source": [
    "valor_2_0 = list2[0]"
   ]
  },
  {
   "cell_type": "code",
   "execution_count": 37,
   "id": "410e8d93-2471-42be-8f4b-2bc66b931d63",
   "metadata": {},
   "outputs": [
    {
     "data": {
      "text/plain": [
       "10.1"
      ]
     },
     "execution_count": 37,
     "metadata": {},
     "output_type": "execute_result"
    }
   ],
   "source": [
    "valor_2_0"
   ]
  },
  {
   "cell_type": "markdown",
   "id": "27ef34e5-342a-4872-8878-c7649179a9b2",
   "metadata": {},
   "source": [
    "operacoes listas"
   ]
  },
  {
   "cell_type": "code",
   "execution_count": 38,
   "id": "141a60ef-f5ca-4f2b-be28-e9eff5bd2b30",
   "metadata": {},
   "outputs": [],
   "source": [
    "listas = [[1,2,3],[10,15,14],[10.1,8.7,2.3]]"
   ]
  },
  {
   "cell_type": "code",
   "execution_count": 39,
   "id": "b18af594-dd04-456e-8998-24f9dd9e0211",
   "metadata": {},
   "outputs": [
    {
     "data": {
      "text/plain": [
       "[[1, 2, 3], [10, 15, 14], [10.1, 8.7, 2.3]]"
      ]
     },
     "execution_count": 39,
     "metadata": {},
     "output_type": "execute_result"
    }
   ],
   "source": [
    "listas"
   ]
  },
  {
   "cell_type": "code",
   "execution_count": 40,
   "id": "4737d2dd-37cd-4556-9537-d05beaf2ddf5",
   "metadata": {},
   "outputs": [],
   "source": [
    "a = listas[0][0]"
   ]
  },
  {
   "cell_type": "code",
   "execution_count": 41,
   "id": "c0dbeeba-9c44-4156-a6b4-74a4189b2919",
   "metadata": {},
   "outputs": [
    {
     "data": {
      "text/plain": [
       "1"
      ]
     },
     "execution_count": 41,
     "metadata": {},
     "output_type": "execute_result"
    }
   ],
   "source": [
    "a"
   ]
  },
  {
   "cell_type": "code",
   "execution_count": 42,
   "id": "01a83705-4f57-4fd7-84a7-11c618d3e169",
   "metadata": {},
   "outputs": [],
   "source": [
    "b = listas[1][2]"
   ]
  },
  {
   "cell_type": "code",
   "execution_count": 43,
   "id": "78edf535-62f0-4a5e-be37-5bb205b32d15",
   "metadata": {},
   "outputs": [
    {
     "data": {
      "text/plain": [
       "14"
      ]
     },
     "execution_count": 43,
     "metadata": {},
     "output_type": "execute_result"
    }
   ],
   "source": [
    "b"
   ]
  },
  {
   "cell_type": "code",
   "execution_count": 44,
   "id": "b50cca27-57a6-48a9-87e9-4e5f81ea7acf",
   "metadata": {},
   "outputs": [],
   "source": [
    "c = listas[0][2] +10"
   ]
  },
  {
   "cell_type": "code",
   "execution_count": 45,
   "id": "bb501027-5c50-4d9b-bc3f-d88bddc1c80f",
   "metadata": {},
   "outputs": [
    {
     "data": {
      "text/plain": [
       "13"
      ]
     },
     "execution_count": 45,
     "metadata": {},
     "output_type": "execute_result"
    }
   ],
   "source": [
    "c"
   ]
  },
  {
   "cell_type": "code",
   "execution_count": 46,
   "id": "100e014f-c097-4d61-9dfc-aea94243780c",
   "metadata": {},
   "outputs": [],
   "source": [
    "d = 10"
   ]
  },
  {
   "cell_type": "code",
   "execution_count": 47,
   "id": "14f547ae-c1a2-420d-9509-220ebb415c6f",
   "metadata": {},
   "outputs": [
    {
     "data": {
      "text/plain": [
       "10"
      ]
     },
     "execution_count": 47,
     "metadata": {},
     "output_type": "execute_result"
    }
   ],
   "source": [
    "d"
   ]
  },
  {
   "cell_type": "code",
   "execution_count": 48,
   "id": "e9c45376-1b4b-47b6-9ac7-9af6c7bd7323",
   "metadata": {},
   "outputs": [],
   "source": [
    "e = d * listas[2][0]"
   ]
  },
  {
   "cell_type": "code",
   "execution_count": 49,
   "id": "d0a6a2b8-8869-4476-bcfa-9a6a9b99f1dd",
   "metadata": {},
   "outputs": [
    {
     "data": {
      "text/plain": [
       "101.0"
      ]
     },
     "execution_count": 49,
     "metadata": {},
     "output_type": "execute_result"
    }
   ],
   "source": [
    "e"
   ]
  },
  {
   "cell_type": "markdown",
   "id": "520266c0-f784-4aef-aba9-a5da8e9ecbbf",
   "metadata": {},
   "source": [
    "concatenar listas"
   ]
  },
  {
   "cell_type": "code",
   "execution_count": 50,
   "id": "7250f344-2424-457f-b89a-036739148296",
   "metadata": {},
   "outputs": [],
   "source": [
    "lista_s1 = [34, 32, 56]"
   ]
  },
  {
   "cell_type": "code",
   "execution_count": 51,
   "id": "73375a22-a38c-43a5-9f63-d9e980e70f70",
   "metadata": {},
   "outputs": [
    {
     "data": {
      "text/plain": [
       "[34, 32, 56]"
      ]
     },
     "execution_count": 51,
     "metadata": {},
     "output_type": "execute_result"
    }
   ],
   "source": [
    "lista_s1"
   ]
  },
  {
   "cell_type": "code",
   "execution_count": 52,
   "id": "afb24697-7f3f-4f59-a947-6d4bcafa74a3",
   "metadata": {},
   "outputs": [],
   "source": [
    "lista_s2 = [21,90,51]"
   ]
  },
  {
   "cell_type": "code",
   "execution_count": 53,
   "id": "ae993dc5-0a8c-4de8-8783-a9f5fbe6801d",
   "metadata": {},
   "outputs": [
    {
     "data": {
      "text/plain": [
       "[21, 90, 51]"
      ]
     },
     "execution_count": 53,
     "metadata": {},
     "output_type": "execute_result"
    }
   ],
   "source": [
    "lista_s2"
   ]
  },
  {
   "cell_type": "code",
   "execution_count": 54,
   "id": "51feb3a2-36f6-4686-8343-7c7f5e64b5ac",
   "metadata": {},
   "outputs": [],
   "source": [
    "listatotal = lista_s1 + lista_s2"
   ]
  },
  {
   "cell_type": "code",
   "execution_count": 55,
   "id": "07d7bfc3-3d4e-41a3-a779-e77726049e13",
   "metadata": {},
   "outputs": [
    {
     "data": {
      "text/plain": [
       "[34, 32, 56, 21, 90, 51]"
      ]
     },
     "execution_count": 55,
     "metadata": {},
     "output_type": "execute_result"
    }
   ],
   "source": [
    "listatotal"
   ]
  },
  {
   "cell_type": "markdown",
   "id": "74f4a875-e2f0-4ce5-870b-dfe438193415",
   "metadata": {},
   "source": [
    "operador In"
   ]
  },
  {
   "cell_type": "code",
   "execution_count": 56,
   "id": "9abb2a21-6175-4604-8b96-634766de9969",
   "metadata": {},
   "outputs": [],
   "source": [
    "lista_teste_op = [100,2,-5,3.4]"
   ]
  },
  {
   "cell_type": "code",
   "execution_count": 57,
   "id": "029b2a02-c1f7-4e79-ac0c-9813cf2cc438",
   "metadata": {},
   "outputs": [
    {
     "name": "stdout",
     "output_type": "stream",
     "text": [
      "False\n"
     ]
    }
   ],
   "source": [
    "print(10 in lista_teste_op)"
   ]
  },
  {
   "cell_type": "code",
   "execution_count": 58,
   "id": "1e8559aa-9b73-4082-995c-a38790b3d153",
   "metadata": {},
   "outputs": [
    {
     "name": "stdout",
     "output_type": "stream",
     "text": [
      "True\n"
     ]
    }
   ],
   "source": [
    "print(100 in lista_teste_op)"
   ]
  },
  {
   "cell_type": "markdown",
   "id": "8becf7e5-248e-4f6b-88fa-16f0ce41e841",
   "metadata": {},
   "source": [
    "Funcoes built - in"
   ]
  },
  {
   "cell_type": "code",
   "execution_count": 59,
   "id": "f51c864d-d2ae-49ac-9332-7fab134ac8c3",
   "metadata": {},
   "outputs": [],
   "source": [
    "lista_numeros = [10,20,50,-3.4]"
   ]
  },
  {
   "cell_type": "code",
   "execution_count": 60,
   "id": "68c6e058-3690-4f2e-aab6-ddd9a8c62c9f",
   "metadata": {},
   "outputs": [
    {
     "data": {
      "text/plain": [
       "4"
      ]
     },
     "execution_count": 60,
     "metadata": {},
     "output_type": "execute_result"
    }
   ],
   "source": [
    "len(lista_numeros)"
   ]
  },
  {
   "cell_type": "code",
   "execution_count": 61,
   "id": "e1161749-f177-45ec-a4af-7a8732fa0891",
   "metadata": {},
   "outputs": [
    {
     "data": {
      "text/plain": [
       "50"
      ]
     },
     "execution_count": 61,
     "metadata": {},
     "output_type": "execute_result"
    }
   ],
   "source": [
    "max(lista_numeros)"
   ]
  },
  {
   "cell_type": "code",
   "execution_count": 62,
   "id": "e7ca1fa0-3767-488f-8c80-3c07db890e12",
   "metadata": {},
   "outputs": [
    {
     "data": {
      "text/plain": [
       "-3.4"
      ]
     },
     "execution_count": 62,
     "metadata": {},
     "output_type": "execute_result"
    }
   ],
   "source": [
    "min(lista_numeros)"
   ]
  },
  {
   "cell_type": "code",
   "execution_count": 71,
   "id": "df4b7c99-6b0e-432e-8763-e5c19a66ad1d",
   "metadata": {},
   "outputs": [],
   "source": [
    "lista_formacoes = [\"analista de dados\", \"cientista de dados\", \"engenheiro de dados\"]"
   ]
  },
  {
   "cell_type": "code",
   "execution_count": 72,
   "id": "5fffd561-2bfd-460b-8de3-0b2d62688ce1",
   "metadata": {},
   "outputs": [
    {
     "data": {
      "text/plain": [
       "['analista de dados', 'cientista de dados', 'engenheiro de dados']"
      ]
     },
     "execution_count": 72,
     "metadata": {},
     "output_type": "execute_result"
    }
   ],
   "source": [
    "lista_formacoes"
   ]
  },
  {
   "cell_type": "code",
   "execution_count": 73,
   "id": "b32b8f06-6c1c-4b11-a3d1-ac00eeaacf29",
   "metadata": {},
   "outputs": [],
   "source": [
    "lista_formacoes.append(\"engenheiro de ia\")"
   ]
  },
  {
   "cell_type": "code",
   "execution_count": 74,
   "id": "76d8c760-cc5d-4d8e-aca0-2d4070e8dc1e",
   "metadata": {},
   "outputs": [
    {
     "data": {
      "text/plain": [
       "['analista de dados',\n",
       " 'cientista de dados',\n",
       " 'engenheiro de dados',\n",
       " 'engenheiro de ia']"
      ]
     },
     "execution_count": 74,
     "metadata": {},
     "output_type": "execute_result"
    }
   ],
   "source": [
    "lista_formacoes"
   ]
  },
  {
   "cell_type": "code",
   "execution_count": 75,
   "id": "a2992384-3fa9-41e1-ad3f-5399187e8d35",
   "metadata": {},
   "outputs": [
    {
     "data": {
      "text/plain": [
       "<function list.append(object, /)>"
      ]
     },
     "execution_count": 75,
     "metadata": {},
     "output_type": "execute_result"
    }
   ],
   "source": [
    "lista_formacoes.append"
   ]
  },
  {
   "cell_type": "code",
   "execution_count": 76,
   "id": "934ad5bd-de7c-4dc3-b2ac-f3556c456902",
   "metadata": {},
   "outputs": [
    {
     "data": {
      "text/plain": [
       "1"
      ]
     },
     "execution_count": 76,
     "metadata": {},
     "output_type": "execute_result"
    }
   ],
   "source": [
    "lista_formacoes.count(\"engenheiro de ia\")"
   ]
  },
  {
   "cell_type": "code",
   "execution_count": 77,
   "id": "836d65bc-52ad-4acb-84bf-81f3bcd9ec11",
   "metadata": {},
   "outputs": [],
   "source": [
    "a = []"
   ]
  },
  {
   "cell_type": "code",
   "execution_count": 78,
   "id": "7be7fea3-2f3f-47a6-ad12-562957fc2b80",
   "metadata": {},
   "outputs": [
    {
     "name": "stdout",
     "output_type": "stream",
     "text": [
      "[]\n"
     ]
    }
   ],
   "source": [
    "print(a)"
   ]
  },
  {
   "cell_type": "code",
   "execution_count": 79,
   "id": "099656f9-19fb-4f2a-b730-1008401878f5",
   "metadata": {},
   "outputs": [
    {
     "data": {
      "text/plain": [
       "list"
      ]
     },
     "execution_count": 79,
     "metadata": {},
     "output_type": "execute_result"
    }
   ],
   "source": [
    "type(a)"
   ]
  },
  {
   "cell_type": "code",
   "execution_count": 80,
   "id": "25e0cdea-2eca-44cd-a5f3-2952c85f929c",
   "metadata": {},
   "outputs": [],
   "source": [
    "a.append(10)"
   ]
  },
  {
   "cell_type": "code",
   "execution_count": 81,
   "id": "6ebc517c-efb7-4ef7-a418-265ca3fd812a",
   "metadata": {},
   "outputs": [
    {
     "data": {
      "text/plain": [
       "[10]"
      ]
     },
     "execution_count": 81,
     "metadata": {},
     "output_type": "execute_result"
    }
   ],
   "source": [
    "a"
   ]
  },
  {
   "cell_type": "code",
   "execution_count": 83,
   "id": "54e938c5-716d-49ef-8df1-c0f0bee39078",
   "metadata": {},
   "outputs": [],
   "source": [
    "a.append(50)"
   ]
  },
  {
   "cell_type": "code",
   "execution_count": 84,
   "id": "0fbe9a1f-f688-4eae-bca8-09df69be0587",
   "metadata": {},
   "outputs": [
    {
     "data": {
      "text/plain": [
       "[10, 50]"
      ]
     },
     "execution_count": 84,
     "metadata": {},
     "output_type": "execute_result"
    }
   ],
   "source": [
    "a"
   ]
  },
  {
   "cell_type": "code",
   "execution_count": 85,
   "id": "1c069429-c554-456b-a826-146563821d70",
   "metadata": {},
   "outputs": [],
   "source": [
    "old_list = [1,2,5,10]"
   ]
  },
  {
   "cell_type": "code",
   "execution_count": 86,
   "id": "ec77dec2-f4f3-4fec-b88f-87c0bfb31165",
   "metadata": {},
   "outputs": [],
   "source": [
    "new_list = []"
   ]
  },
  {
   "cell_type": "code",
   "execution_count": 87,
   "id": "f76435d2-a57b-414e-a456-1afc246532e8",
   "metadata": {},
   "outputs": [],
   "source": [
    "for item in old_list:\n",
    "    new_list.append(item)"
   ]
  },
  {
   "cell_type": "code",
   "execution_count": 88,
   "id": "af903701-52a3-4b6f-8c1f-63d082cc64f1",
   "metadata": {},
   "outputs": [
    {
     "data": {
      "text/plain": [
       "[1, 2, 5, 10]"
      ]
     },
     "execution_count": 88,
     "metadata": {},
     "output_type": "execute_result"
    }
   ],
   "source": [
    "new_list"
   ]
  },
  {
   "cell_type": "code",
   "execution_count": 89,
   "id": "52912a70-81f7-4765-ac92-5f35c569d3ec",
   "metadata": {},
   "outputs": [],
   "source": [
    "cidades = [\"recife\",\"manaus\",\"salvador\"]"
   ]
  },
  {
   "cell_type": "code",
   "execution_count": 90,
   "id": "e1b597ef-13df-41c6-8444-a73011a0031b",
   "metadata": {},
   "outputs": [
    {
     "name": "stdout",
     "output_type": "stream",
     "text": [
      "['recife', 'manaus', 'salvador', 'fortaleza', 'palmas']\n"
     ]
    }
   ],
   "source": [
    "cidades.extend([\"fortaleza\",\"palmas\"])\n",
    "print(cidades)"
   ]
  },
  {
   "cell_type": "code",
   "execution_count": 91,
   "id": "a03e5502-9566-416d-a122-a9a624e2ca5b",
   "metadata": {},
   "outputs": [
    {
     "data": {
      "text/plain": [
       "2"
      ]
     },
     "execution_count": 91,
     "metadata": {},
     "output_type": "execute_result"
    }
   ],
   "source": [
    "cidades.index(\"salvador\")"
   ]
  },
  {
   "cell_type": "code",
   "execution_count": 92,
   "id": "b8120ca2-16ea-469a-9779-12cb471dd2eb",
   "metadata": {},
   "outputs": [
    {
     "ename": "ValueError",
     "evalue": "'rio de janeiro' is not in list",
     "output_type": "error",
     "traceback": [
      "\u001b[1;31m---------------------------------------------------------------------------\u001b[0m",
      "\u001b[1;31mValueError\u001b[0m                                Traceback (most recent call last)",
      "Cell \u001b[1;32mIn[92], line 1\u001b[0m\n\u001b[1;32m----> 1\u001b[0m cidades\u001b[38;5;241m.\u001b[39mindex(\u001b[38;5;124m\"\u001b[39m\u001b[38;5;124mrio de janeiro\u001b[39m\u001b[38;5;124m\"\u001b[39m)\n",
      "\u001b[1;31mValueError\u001b[0m: 'rio de janeiro' is not in list"
     ]
    }
   ],
   "source": [
    "cidades.index(\"rio de janeiro\")"
   ]
  },
  {
   "cell_type": "code",
   "execution_count": 93,
   "id": "a183c246-9098-469a-ba73-4d5c6b5527b2",
   "metadata": {},
   "outputs": [
    {
     "data": {
      "text/plain": [
       "['recife', 'manaus', 'salvador', 'fortaleza', 'palmas']"
      ]
     },
     "execution_count": 93,
     "metadata": {},
     "output_type": "execute_result"
    }
   ],
   "source": [
    "cidades"
   ]
  },
  {
   "cell_type": "code",
   "execution_count": 96,
   "id": "80a069cc-5c95-489b-a739-b441d8edcdeb",
   "metadata": {},
   "outputs": [],
   "source": [
    "cidades.insert(2, 110)"
   ]
  },
  {
   "cell_type": "code",
   "execution_count": 97,
   "id": "c5258495-43f3-424a-9c08-4aed6796bbab",
   "metadata": {},
   "outputs": [
    {
     "data": {
      "text/plain": [
       "['recife', 'manaus', 110, 110, 'salvador', 'fortaleza', 'palmas']"
      ]
     },
     "execution_count": 97,
     "metadata": {},
     "output_type": "execute_result"
    }
   ],
   "source": [
    "cidades"
   ]
  },
  {
   "cell_type": "code",
   "execution_count": 98,
   "id": "e3708013-9ce8-40ac-bf9d-422fba22b108",
   "metadata": {},
   "outputs": [],
   "source": [
    "cidades.remove(110)"
   ]
  },
  {
   "cell_type": "code",
   "execution_count": 99,
   "id": "8330e871-649e-411b-a6b1-0f7aa2b4c56a",
   "metadata": {},
   "outputs": [
    {
     "data": {
      "text/plain": [
       "['recife', 'manaus', 110, 'salvador', 'fortaleza', 'palmas']"
      ]
     },
     "execution_count": 99,
     "metadata": {},
     "output_type": "execute_result"
    }
   ],
   "source": [
    "cidades"
   ]
  },
  {
   "cell_type": "code",
   "execution_count": 100,
   "id": "de209a6a-727e-4d72-9d03-36020e172151",
   "metadata": {},
   "outputs": [],
   "source": [
    "cidades.reverse()"
   ]
  },
  {
   "cell_type": "code",
   "execution_count": 101,
   "id": "2639f727-dda8-4a1c-917e-eebfcae6f125",
   "metadata": {},
   "outputs": [
    {
     "data": {
      "text/plain": [
       "['palmas', 'fortaleza', 'salvador', 110, 'manaus', 'recife']"
      ]
     },
     "execution_count": 101,
     "metadata": {},
     "output_type": "execute_result"
    }
   ],
   "source": [
    "cidades"
   ]
  },
  {
   "cell_type": "code",
   "execution_count": null,
   "id": "29b28c90-d84a-4f43-8b54-07634ef4cdee",
   "metadata": {},
   "outputs": [],
   "source": []
  },
  {
   "cell_type": "code",
   "execution_count": null,
   "id": "3f789350-d7be-45ce-a3b3-70798efeb1c0",
   "metadata": {},
   "outputs": [],
   "source": []
  },
  {
   "cell_type": "code",
   "execution_count": null,
   "id": "8e4de835-a581-4764-958a-4b1d2ee32ad0",
   "metadata": {},
   "outputs": [],
   "source": []
  },
  {
   "cell_type": "code",
   "execution_count": null,
   "id": "e77b91cb-daa6-4f1c-976f-a43ab82c4d99",
   "metadata": {},
   "outputs": [],
   "source": []
  },
  {
   "cell_type": "code",
   "execution_count": null,
   "id": "27e0bde2-396a-4deb-b6ec-d3a69397749f",
   "metadata": {},
   "outputs": [],
   "source": []
  },
  {
   "cell_type": "code",
   "execution_count": null,
   "id": "1cde4001-1698-4067-a924-d8d28454722b",
   "metadata": {},
   "outputs": [],
   "source": []
  },
  {
   "cell_type": "code",
   "execution_count": null,
   "id": "3e0b1de9-a2d4-4ad1-b7c8-ed6a95d11888",
   "metadata": {},
   "outputs": [],
   "source": []
  },
  {
   "cell_type": "code",
   "execution_count": null,
   "id": "ccf5f721-fd0c-4c16-9063-6209099d5872",
   "metadata": {},
   "outputs": [],
   "source": []
  },
  {
   "cell_type": "code",
   "execution_count": null,
   "id": "5dd4e527-38ac-4bdb-8a14-d68b21838e74",
   "metadata": {},
   "outputs": [],
   "source": []
  },
  {
   "cell_type": "code",
   "execution_count": null,
   "id": "03d5ab65-2251-4174-a572-9ed083be0264",
   "metadata": {},
   "outputs": [],
   "source": []
  },
  {
   "cell_type": "code",
   "execution_count": null,
   "id": "7f68ed51-360f-4c8a-a417-6eb1f9c9f181",
   "metadata": {},
   "outputs": [],
   "source": []
  },
  {
   "cell_type": "code",
   "execution_count": null,
   "id": "330118e0-fc29-4fda-ae57-d9dff8082abe",
   "metadata": {},
   "outputs": [],
   "source": []
  },
  {
   "cell_type": "code",
   "execution_count": null,
   "id": "f30b8a11-932b-45cc-83b0-54fb2020805d",
   "metadata": {},
   "outputs": [],
   "source": []
  },
  {
   "cell_type": "code",
   "execution_count": null,
   "id": "8fcf309b-6fc2-48db-8d03-18ee050697f6",
   "metadata": {},
   "outputs": [],
   "source": []
  },
  {
   "cell_type": "code",
   "execution_count": null,
   "id": "2e23d225-fc35-4b54-a191-137ef087db6c",
   "metadata": {},
   "outputs": [],
   "source": []
  },
  {
   "cell_type": "code",
   "execution_count": null,
   "id": "671ebe5a-e6e6-4d9b-b91f-8873cbaad373",
   "metadata": {},
   "outputs": [],
   "source": []
  },
  {
   "cell_type": "code",
   "execution_count": null,
   "id": "fa0b36df-685d-4893-bd61-0aa7a26948ca",
   "metadata": {},
   "outputs": [],
   "source": []
  },
  {
   "cell_type": "code",
   "execution_count": null,
   "id": "026f4da7-ed50-4d64-94b9-27a5101faadc",
   "metadata": {},
   "outputs": [],
   "source": []
  },
  {
   "cell_type": "code",
   "execution_count": null,
   "id": "1a7daaf8-d92a-4383-bc15-fe66b9778f6c",
   "metadata": {},
   "outputs": [],
   "source": []
  },
  {
   "cell_type": "code",
   "execution_count": null,
   "id": "4389e480-0145-49c3-b281-094eefe0fd32",
   "metadata": {},
   "outputs": [],
   "source": []
  },
  {
   "cell_type": "code",
   "execution_count": null,
   "id": "413a91ba-f99d-4378-801b-ed2aab608edb",
   "metadata": {},
   "outputs": [],
   "source": []
  },
  {
   "cell_type": "code",
   "execution_count": null,
   "id": "dda4ca8c-9814-4255-a567-660baf4ea584",
   "metadata": {},
   "outputs": [],
   "source": []
  },
  {
   "cell_type": "code",
   "execution_count": null,
   "id": "d9597311-a73f-4abc-aea4-e051ff9f249c",
   "metadata": {},
   "outputs": [],
   "source": []
  },
  {
   "cell_type": "code",
   "execution_count": null,
   "id": "99753425-4ff8-40c1-8da1-970730760718",
   "metadata": {},
   "outputs": [],
   "source": []
  },
  {
   "cell_type": "code",
   "execution_count": null,
   "id": "fcf4ea66-6e09-4c71-9f15-9569f42f4311",
   "metadata": {},
   "outputs": [],
   "source": []
  },
  {
   "cell_type": "code",
   "execution_count": null,
   "id": "96262d3c-3a13-4a03-b5b1-f522a1bfec41",
   "metadata": {},
   "outputs": [],
   "source": []
  },
  {
   "cell_type": "code",
   "execution_count": null,
   "id": "98a68d9d-5e8f-48cc-9ab6-477d7bea47f6",
   "metadata": {},
   "outputs": [],
   "source": []
  },
  {
   "cell_type": "code",
   "execution_count": null,
   "id": "5a89edd7-f464-44b0-bc1c-d0b041ac547a",
   "metadata": {},
   "outputs": [],
   "source": []
  },
  {
   "cell_type": "code",
   "execution_count": null,
   "id": "a6aae763-d0d0-41cc-addc-9d88dd7da34a",
   "metadata": {},
   "outputs": [],
   "source": []
  },
  {
   "cell_type": "code",
   "execution_count": null,
   "id": "bb1afcfa-ec15-4f4b-917e-aa3cd5499d8d",
   "metadata": {},
   "outputs": [],
   "source": []
  },
  {
   "cell_type": "code",
   "execution_count": null,
   "id": "92f4009c-c975-4d5e-becf-5d60bc0a1910",
   "metadata": {},
   "outputs": [],
   "source": []
  },
  {
   "cell_type": "code",
   "execution_count": null,
   "id": "137cabd8-751b-4aae-b7a6-3e5abe761a45",
   "metadata": {},
   "outputs": [],
   "source": []
  },
  {
   "cell_type": "code",
   "execution_count": null,
   "id": "16a0700f-06ed-469d-97f3-6f8eb033bd29",
   "metadata": {},
   "outputs": [],
   "source": []
  },
  {
   "cell_type": "code",
   "execution_count": null,
   "id": "aa8d0445-37ca-4c91-9eda-ffe961522294",
   "metadata": {},
   "outputs": [],
   "source": []
  },
  {
   "cell_type": "code",
   "execution_count": null,
   "id": "58edcf1d-a0fe-464d-adff-b1cfafc844a5",
   "metadata": {},
   "outputs": [],
   "source": []
  },
  {
   "cell_type": "code",
   "execution_count": null,
   "id": "3a42f166-99c2-43f5-89ad-2634f6596c83",
   "metadata": {},
   "outputs": [],
   "source": []
  },
  {
   "cell_type": "code",
   "execution_count": null,
   "id": "4bb90778-3b96-4152-b68f-9178dc7234f1",
   "metadata": {},
   "outputs": [],
   "source": []
  },
  {
   "cell_type": "code",
   "execution_count": null,
   "id": "86254f21-228e-4a21-92ac-4a6b464f4eb3",
   "metadata": {},
   "outputs": [],
   "source": []
  },
  {
   "cell_type": "code",
   "execution_count": null,
   "id": "c571f241-520b-4aa0-bf1a-4f8b0f328f0a",
   "metadata": {},
   "outputs": [],
   "source": []
  },
  {
   "cell_type": "code",
   "execution_count": null,
   "id": "f4fe4145-6631-4d16-bf22-b8d46115c0f5",
   "metadata": {},
   "outputs": [],
   "source": []
  },
  {
   "cell_type": "code",
   "execution_count": null,
   "id": "1243aea6-3494-403d-946b-a2e7c9d3955c",
   "metadata": {},
   "outputs": [],
   "source": []
  },
  {
   "cell_type": "code",
   "execution_count": null,
   "id": "23409397-a4cd-407c-944a-439362c6a032",
   "metadata": {},
   "outputs": [],
   "source": []
  },
  {
   "cell_type": "code",
   "execution_count": null,
   "id": "35559f04-2e8e-463c-af18-885a88762c0e",
   "metadata": {},
   "outputs": [],
   "source": []
  },
  {
   "cell_type": "code",
   "execution_count": null,
   "id": "a4838414-788f-47c3-a960-3df2821d43d8",
   "metadata": {},
   "outputs": [],
   "source": []
  },
  {
   "cell_type": "code",
   "execution_count": null,
   "id": "0fbef865-23b1-4f5c-a137-be1ec6d72ed2",
   "metadata": {},
   "outputs": [],
   "source": []
  },
  {
   "cell_type": "code",
   "execution_count": null,
   "id": "4913f0ef-533a-487f-b673-b092762ab61f",
   "metadata": {},
   "outputs": [],
   "source": []
  }
 ],
 "metadata": {
  "kernelspec": {
   "display_name": "Python 3 (ipykernel)",
   "language": "python",
   "name": "python3"
  },
  "language_info": {
   "codemirror_mode": {
    "name": "ipython",
    "version": 3
   },
   "file_extension": ".py",
   "mimetype": "text/x-python",
   "name": "python",
   "nbconvert_exporter": "python",
   "pygments_lexer": "ipython3",
   "version": "3.12.7"
  }
 },
 "nbformat": 4,
 "nbformat_minor": 5
}
