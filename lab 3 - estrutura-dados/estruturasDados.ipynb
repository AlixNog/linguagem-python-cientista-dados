{
 "cells": [
  {
   "cell_type": "markdown",
   "id": "62e09f03-bfaa-4070-822a-300fd80290be",
   "metadata": {},
   "source": [
    "trabalhando com listas"
   ]
  },
  {
   "cell_type": "code",
   "execution_count": 1,
   "id": "75226cc1-7851-4e90-ab78-3c616a8e3b10",
   "metadata": {},
   "outputs": [],
   "source": [
    "lista_1 = [\"arroz, frango, tomate, leite\"]"
   ]
  },
  {
   "cell_type": "code",
   "execution_count": 2,
   "id": "d62644b0-cfa6-4b61-afc1-62c77f69fe50",
   "metadata": {},
   "outputs": [
    {
     "data": {
      "text/plain": [
       "list"
      ]
     },
     "execution_count": 2,
     "metadata": {},
     "output_type": "execute_result"
    }
   ],
   "source": [
    "type(lista_1)"
   ]
  },
  {
   "cell_type": "code",
   "execution_count": 3,
   "id": "ff458768-0b17-4da2-ba41-1e0e6c87269d",
   "metadata": {},
   "outputs": [
    {
     "name": "stdout",
     "output_type": "stream",
     "text": [
      "['arroz, frango, tomate, leite']\n"
     ]
    }
   ],
   "source": [
    "print(lista_1)"
   ]
  },
  {
   "cell_type": "code",
   "execution_count": 4,
   "id": "5fd75711-637a-4e9c-8a70-64070656a128",
   "metadata": {},
   "outputs": [],
   "source": [
    "lista_2 = [\"arroz\",\"frango\",\"tomate\",\"leite\"]"
   ]
  },
  {
   "cell_type": "code",
   "execution_count": 5,
   "id": "417c8e5c-ae37-4e86-9178-c7c2190f2066",
   "metadata": {},
   "outputs": [
    {
     "data": {
      "text/plain": [
       "list"
      ]
     },
     "execution_count": 5,
     "metadata": {},
     "output_type": "execute_result"
    }
   ],
   "source": [
    "type(lista_2)"
   ]
  },
  {
   "cell_type": "code",
   "execution_count": 6,
   "id": "0c6db6de-a317-4521-b590-e609a2dcc8c0",
   "metadata": {},
   "outputs": [
    {
     "name": "stdout",
     "output_type": "stream",
     "text": [
      "['arroz', 'frango', 'tomate', 'leite']\n"
     ]
    }
   ],
   "source": [
    "print(lista_2)"
   ]
  },
  {
   "cell_type": "code",
   "execution_count": 8,
   "id": "b9d79da7-1199-40c3-865a-065e5745b0d3",
   "metadata": {},
   "outputs": [],
   "source": [
    "lista_3 = [23, 100, \"Cientista de Dados\"]"
   ]
  },
  {
   "cell_type": "code",
   "execution_count": 9,
   "id": "22ecfcf9-33ae-4e5c-b8b1-7f836ac8361d",
   "metadata": {},
   "outputs": [
    {
     "data": {
      "text/plain": [
       "list"
      ]
     },
     "execution_count": 9,
     "metadata": {},
     "output_type": "execute_result"
    }
   ],
   "source": [
    "type(lista_3)"
   ]
  },
  {
   "cell_type": "code",
   "execution_count": 10,
   "id": "0a47521b-0d19-44af-9055-4f0413794301",
   "metadata": {},
   "outputs": [],
   "source": [
    "item1 = lista_3[0]\n",
    "item2 = lista_3[1]\n",
    "item3 = lista_3[2]"
   ]
  },
  {
   "cell_type": "code",
   "execution_count": 11,
   "id": "88e72352-7c10-4bc3-8436-06aa1985ed9a",
   "metadata": {},
   "outputs": [
    {
     "name": "stdout",
     "output_type": "stream",
     "text": [
      "23 100 Cientista de Dados\n"
     ]
    }
   ],
   "source": [
    "print(item1,item2,item3)"
   ]
  },
  {
   "cell_type": "markdown",
   "id": "f5905e07-72ac-4370-ab4b-261ef4972b65",
   "metadata": {},
   "source": [
    "atualizando um item da lista"
   ]
  },
  {
   "cell_type": "code",
   "execution_count": null,
   "id": "a778509e-ad85-471b-945c-4cb4f082c2e9",
   "metadata": {},
   "outputs": [],
   "source": [
    "lista_2"
   ]
  },
  {
   "cell_type": "code",
   "execution_count": null,
   "id": "8ad40da3-ad1b-4270-8d6b-e54a17cae8ef",
   "metadata": {},
   "outputs": [],
   "source": [
    "lista_2[2]"
   ]
  },
  {
   "cell_type": "code",
   "execution_count": null,
   "id": "53f9cdda-e82a-4dd3-8ac0-f7bdfdf50b4e",
   "metadata": {},
   "outputs": [],
   "source": [
    "lista_2[2] = \"chocolate\""
   ]
  },
  {
   "cell_type": "code",
   "execution_count": null,
   "id": "73d9d5f4-6379-4adb-9e6e-03a7baaa64d9",
   "metadata": {},
   "outputs": [],
   "source": [
    "lista_2"
   ]
  },
  {
   "cell_type": "code",
   "execution_count": null,
   "id": "14a4f6ca-ad99-412f-8e65-cc9241b18a84",
   "metadata": {},
   "outputs": [],
   "source": []
  },
  {
   "cell_type": "code",
   "execution_count": null,
   "id": "f16cccc3-d513-455b-91aa-99270dac05f8",
   "metadata": {},
   "outputs": [],
   "source": []
  },
  {
   "cell_type": "code",
   "execution_count": null,
   "id": "694c6894-a14c-4fee-908b-1fc684cad8ba",
   "metadata": {},
   "outputs": [],
   "source": []
  }
 ],
 "metadata": {
  "kernelspec": {
   "display_name": "Python 3 (ipykernel)",
   "language": "python",
   "name": "python3"
  },
  "language_info": {
   "codemirror_mode": {
    "name": "ipython",
    "version": 3
   },
   "file_extension": ".py",
   "mimetype": "text/x-python",
   "name": "python",
   "nbconvert_exporter": "python",
   "pygments_lexer": "ipython3",
   "version": "3.12.7"
  }
 },
 "nbformat": 4,
 "nbformat_minor": 5
}
