{
 "cells": [
  {
   "cell_type": "code",
   "execution_count": null,
   "id": "51bffcaa-8568-4051-9db0-5de9313338fd",
   "metadata": {},
   "outputs": [],
   "source": []
  }
 ],
 "metadata": {
  "kernelspec": {
   "display_name": "",
   "name": ""
  },
  "language_info": {
   "name": ""
  }
 },
 "nbformat": 4,
 "nbformat_minor": 5
}
