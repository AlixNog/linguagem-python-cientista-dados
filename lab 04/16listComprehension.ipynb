{
 "cells": [
  {
   "cell_type": "code",
   "execution_count": 1,
   "id": "106a1a50",
   "metadata": {},
   "outputs": [
    {
     "data": {
      "text/plain": [
       "[0, 1, 2, 3, 4, 5, 6, 7, 8, 9]"
      ]
     },
     "execution_count": 1,
     "metadata": {},
     "output_type": "execute_result"
    }
   ],
   "source": [
    "# list e dic comprehension\n",
    "\n",
    "# list comprehension que imprime os numeros ate 10\n",
    "[x for x in range(10)]"
   ]
  },
  {
   "cell_type": "code",
   "execution_count": 2,
   "id": "5eda934a",
   "metadata": {},
   "outputs": [],
   "source": [
    "# list comprenhion que imprime os numeros ate 10 e grava em uma lista em python\n",
    "\n",
    "lista_numeros = [x for x in range(10)]"
   ]
  },
  {
   "cell_type": "code",
   "execution_count": 3,
   "id": "f1ad6ae8",
   "metadata": {},
   "outputs": [
    {
     "name": "stdout",
     "output_type": "stream",
     "text": [
      "[0, 1, 2, 3, 4, 5, 6, 7, 8, 9]\n"
     ]
    }
   ],
   "source": [
    "print(lista_numeros)"
   ]
  },
  {
   "cell_type": "code",
   "execution_count": 4,
   "id": "34a57927",
   "metadata": {},
   "outputs": [],
   "source": [
    "# list comprehension que imprime os numeros menores que 5 em um intervalo de 1 a 10\n",
    "lista_numeros=[x for x in range(10) if x < 5]"
   ]
  },
  {
   "cell_type": "code",
   "execution_count": 5,
   "id": "fb7eb171",
   "metadata": {},
   "outputs": [
    {
     "name": "stdout",
     "output_type": "stream",
     "text": [
      "[0, 1, 2, 3, 4]\n"
     ]
    }
   ],
   "source": [
    "print(lista_numeros)"
   ]
  },
  {
   "cell_type": "code",
   "execution_count": 6,
   "id": "d5b26d81",
   "metadata": {},
   "outputs": [],
   "source": [
    "# lista de frutas\n",
    "lista_frutas = ['banana', 'maça', 'laranja', 'uva']\n",
    "# nova lista\n",
    "nova_lista = []"
   ]
  },
  {
   "cell_type": "code",
   "execution_count": 7,
   "id": "6d09db63",
   "metadata": {},
   "outputs": [
    {
     "name": "stdout",
     "output_type": "stream",
     "text": [
      "['banana', 'laranja']\n"
     ]
    }
   ],
   "source": [
    "# loop tradicional para buscar as palavras com letra 'n' \n",
    "for x in lista_frutas:\n",
    "    if 'n' in x:\n",
    "        nova_lista.append(x)\n",
    "print(nova_lista)"
   ]
  },
  {
   "cell_type": "code",
   "execution_count": 10,
   "id": "ff0e07be",
   "metadata": {},
   "outputs": [
    {
     "name": "stdout",
     "output_type": "stream",
     "text": [
      "['banana', 'laranja']\n"
     ]
    }
   ],
   "source": [
    "# list comprehension\n",
    "nova_lista = [ x for x in lista_frutas if 'n' in x]\n",
    "\n",
    "print(nova_lista)"
   ]
  },
  {
   "cell_type": "code",
   "execution_count": 16,
   "id": "251097c6",
   "metadata": {},
   "outputs": [
    {
     "name": "stdout",
     "output_type": "stream",
     "text": [
      "{'Alice': 9.5, 'Bob': 8.0, 'Charlie': 7.5}\n"
     ]
    }
   ],
   "source": [
    "# dict comprehension\n",
    "\n",
    "# dicionario de alunos e notas\n",
    "\n",
    "dict_alunos = { 'Alice': 9.5, 'Bob': 8.0, 'Charlie': 7.5 }\n",
    "\n",
    "# novo dicionario imprimindo os pares chave:valor\n",
    "\n",
    "dict_alunos_status = {k:v for (k,v) in dict_alunos.items()}\n",
    "\n",
    "print(dict_alunos_status)\n"
   ]
  },
  {
   "cell_type": "code",
   "execution_count": 17,
   "id": "bad8df3f",
   "metadata": {},
   "outputs": [
    {
     "name": "stdout",
     "output_type": "stream",
     "text": [
      "{'Alice': 'reprovado', 'Bob': 'reprovado', 'Charlie': 'reprovado'}\n"
     ]
    }
   ],
   "source": [
    "# dicionario de alunos e notas\n",
    "\n",
    "dict_alunos = { 'Alice': 9.5, 'Bob': 8.0, 'Charlie': 7.5 }\n",
    "\n",
    "# novo dicionario: se maior que 70 aprovado, se nao,reprovado\n",
    "dict_alunos_status = {k: ('aprovado'if v > 70 else 'reprovado') for (k,v) in dict_alunos.items()}\n",
    "print(dict_alunos_status)\n"
   ]
  },
  {
   "cell_type": "code",
   "execution_count": null,
   "id": "ae79d424",
   "metadata": {},
   "outputs": [],
   "source": []
  },
  {
   "cell_type": "code",
   "execution_count": null,
   "id": "7caed171",
   "metadata": {},
   "outputs": [],
   "source": []
  },
  {
   "cell_type": "code",
   "execution_count": null,
   "id": "20469943",
   "metadata": {},
   "outputs": [],
   "source": []
  },
  {
   "cell_type": "code",
   "execution_count": null,
   "id": "200b3290",
   "metadata": {},
   "outputs": [],
   "source": []
  },
  {
   "cell_type": "code",
   "execution_count": null,
   "id": "3e2d9bed",
   "metadata": {},
   "outputs": [],
   "source": []
  },
  {
   "cell_type": "code",
   "execution_count": null,
   "id": "8d744e47",
   "metadata": {},
   "outputs": [],
   "source": []
  }
 ],
 "metadata": {
  "kernelspec": {
   "display_name": "Python 3",
   "language": "python",
   "name": "python3"
  },
  "language_info": {
   "codemirror_mode": {
    "name": "ipython",
    "version": 3
   },
   "file_extension": ".py",
   "mimetype": "text/x-python",
   "name": "python",
   "nbconvert_exporter": "python",
   "pygments_lexer": "ipython3",
   "version": "3.13.0"
  }
 },
 "nbformat": 4,
 "nbformat_minor": 5
}
