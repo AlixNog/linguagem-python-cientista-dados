{
 "cells": [
  {
   "cell_type": "code",
   "execution_count": null,
   "id": "9afcdc37",
   "metadata": {},
   "outputs": [],
   "source": [
    "#fazendo split dados\n",
    "def split_palavra(text):\n",
    "    return text.split(\"\")"
   ]
  },
  {
   "cell_type": "code",
   "execution_count": null,
   "id": "0ed8461c",
   "metadata": {},
   "outputs": [],
   "source": [
    "texto = 'esta funcao sera bastante util para separar grandes volumes de dados'"
   ]
  },
  {
   "cell_type": "code",
   "execution_count": null,
   "id": "30c0b0b6",
   "metadata": {},
   "outputs": [],
   "source": [
    "# divide a string em uma lista de palavras\n",
    "print(split_palavra(texto))"
   ]
  },
  {
   "cell_type": "code",
   "execution_count": null,
   "id": "1a942b72",
   "metadata": {},
   "outputs": [],
   "source": [
    "token = split_palavra(texto)"
   ]
  },
  {
   "cell_type": "code",
   "execution_count": null,
   "id": "9805a0a8",
   "metadata": {},
   "outputs": [],
   "source": [
    "token"
   ]
  },
  {
   "cell_type": "code",
   "execution_count": null,
   "id": "abea00c2",
   "metadata": {},
   "outputs": [],
   "source": [
    "# fazendo split dos dados\n",
    "def split_letras(text):\n",
    "    texto = text.upper()\n",
    "    for letra in texto:\n",
    "        print(letra)"
   ]
  },
  {
   "cell_type": "code",
   "execution_count": null,
   "id": "b8ababfe",
   "metadata": {},
   "outputs": [],
   "source": [
    "split_letras(texto)"
   ]
  },
  {
   "cell_type": "code",
   "execution_count": null,
   "id": "7ab2c428",
   "metadata": {},
   "outputs": [],
   "source": []
  },
  {
   "cell_type": "code",
   "execution_count": null,
   "id": "e871318c",
   "metadata": {},
   "outputs": [],
   "source": []
  },
  {
   "cell_type": "code",
   "execution_count": null,
   "id": "b7f117b7",
   "metadata": {},
   "outputs": [],
   "source": []
  },
  {
   "cell_type": "code",
   "execution_count": null,
   "id": "4ef3ddee",
   "metadata": {},
   "outputs": [],
   "source": []
  },
  {
   "cell_type": "code",
   "execution_count": null,
   "id": "11b90932",
   "metadata": {},
   "outputs": [],
   "source": []
  },
  {
   "cell_type": "code",
   "execution_count": null,
   "id": "f6796940",
   "metadata": {},
   "outputs": [],
   "source": []
  }
 ],
 "metadata": {
  "kernelspec": {
   "display_name": "Python 3",
   "language": "python",
   "name": "python3"
  },
  "language_info": {
   "name": "python",
   "version": "3.13.0"
  }
 },
 "nbformat": 4,
 "nbformat_minor": 5
}
