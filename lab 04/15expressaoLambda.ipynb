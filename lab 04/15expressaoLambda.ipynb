{
 "cells": [
  {
   "cell_type": "code",
   "execution_count": null,
   "id": "bb1938f8",
   "metadata": {},
   "outputs": [],
   "source": [
    "# definindo uma funcao - 3 linhas de codigo\n",
    "def potencia(num):\n",
    "    resultado = num ** 2\n",
    "    return resultado"
   ]
  },
  {
   "cell_type": "code",
   "execution_count": null,
   "id": "2666a470",
   "metadata": {},
   "outputs": [],
   "source": [
    "potencia(5)"
   ]
  },
  {
   "cell_type": "code",
   "execution_count": null,
   "id": "ec63ac7e",
   "metadata": {},
   "outputs": [],
   "source": [
    "# definindo uma funcao - 2 linhas de codigo\n",
    "def potencia (num):\n",
    "    return num ** 2 \n"
   ]
  },
  {
   "cell_type": "code",
   "execution_count": null,
   "id": "92c7996c",
   "metadata": {},
   "outputs": [],
   "source": [
    "potencia(5)"
   ]
  },
  {
   "cell_type": "code",
   "execution_count": null,
   "id": "5683eebf",
   "metadata": {},
   "outputs": [],
   "source": [
    "# definindo uma expressao lambda (funcao anonima)\n",
    "potencia = lambda num: num ** 2"
   ]
  },
  {
   "cell_type": "code",
   "execution_count": null,
   "id": "62376716",
   "metadata": {},
   "outputs": [],
   "source": [
    "potencia(5)"
   ]
  },
  {
   "cell_type": "code",
   "execution_count": null,
   "id": "65e0181d",
   "metadata": {},
   "outputs": [],
   "source": [
    "# lembrete : operadores de comparacao retornam boolean: true or false\n",
    "par = lambda num: num % 2 == 0"
   ]
  },
  {
   "cell_type": "code",
   "execution_count": null,
   "id": "6ff13779",
   "metadata": {},
   "outputs": [],
   "source": [
    "par(3)"
   ]
  },
  {
   "cell_type": "code",
   "execution_count": null,
   "id": "6eec5365",
   "metadata": {},
   "outputs": [],
   "source": []
  },
  {
   "cell_type": "code",
   "execution_count": null,
   "id": "4a5230f1",
   "metadata": {},
   "outputs": [],
   "source": []
  },
  {
   "cell_type": "code",
   "execution_count": null,
   "id": "c58c4166",
   "metadata": {},
   "outputs": [],
   "source": []
  }
 ],
 "metadata": {
  "kernelspec": {
   "display_name": "Python 3",
   "language": "python",
   "name": "python3"
  },
  "language_info": {
   "name": "python",
   "version": "3.13.0"
  }
 },
 "nbformat": 4,
 "nbformat_minor": 5
}
