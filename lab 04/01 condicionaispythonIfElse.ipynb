{
 "cells": [
  {
   "cell_type": "code",
   "execution_count": 11,
   "id": "d3bb5c88",
   "metadata": {},
   "outputs": [
    {
     "name": "stdout",
     "output_type": "stream",
     "text": [
      "verdade\n"
     ]
    }
   ],
   "source": [
    "#condicional if\n",
    "if 5 > 2:\n",
    "    print(\"verdade\")"
   ]
  },
  {
   "cell_type": "code",
   "execution_count": 12,
   "id": "e7fc4193",
   "metadata": {},
   "outputs": [
    {
     "name": "stdout",
     "output_type": "stream",
     "text": [
      "falso\n"
     ]
    }
   ],
   "source": [
    "#condicional if ... else\n",
    "if 5 < 2:\n",
    "    print(\"verdade\")\n",
    "else:\n",
    "    print(\"falso\")"
   ]
  },
  {
   "cell_type": "code",
   "execution_count": 2,
   "id": "38effa04",
   "metadata": {},
   "outputs": [
    {
     "name": "stdout",
     "output_type": "stream",
     "text": [
      " tera chuva \n"
     ]
    }
   ],
   "source": [
    "#condicional if ...elso com variavel\n",
    "dia = 'terca-feira'\n",
    "if dia == 'domingo':\n",
    "    print(\" tera sol \")\n",
    "else:\n",
    "    print(\" tera chuva \")"
   ]
  },
  {
   "cell_type": "code",
   "execution_count": 4,
   "id": "27e92c5e",
   "metadata": {},
   "outputs": [
    {
     "name": "stdout",
     "output_type": "stream",
     "text": [
      "sem previsao de tempo\n"
     ]
    }
   ],
   "source": [
    "# podemos usar operador elif para mais de uma condicional\n",
    "if dia == 'segunda':\n",
    "    print(\"hoje tem sol\")\n",
    "elif dia == 'terca':\n",
    "    print(\"hoje tem chuva\")\n",
    "else:\n",
    "    print(\"sem previsao de tempo\")"
   ]
  },
  {
   "cell_type": "code",
   "execution_count": null,
   "id": "8f37c4bf",
   "metadata": {},
   "outputs": [],
   "source": []
  },
  {
   "cell_type": "code",
   "execution_count": null,
   "id": "923943e2",
   "metadata": {},
   "outputs": [],
   "source": []
  },
  {
   "cell_type": "code",
   "execution_count": null,
   "id": "bc9b773a",
   "metadata": {},
   "outputs": [],
   "source": []
  }
 ],
 "metadata": {
  "kernelspec": {
   "display_name": "Python 3",
   "language": "python",
   "name": "python3"
  },
  "language_info": {
   "codemirror_mode": {
    "name": "ipython",
    "version": 3
   },
   "file_extension": ".py",
   "mimetype": "text/x-python",
   "name": "python",
   "nbconvert_exporter": "python",
   "pygments_lexer": "ipython3",
   "version": "3.13.0"
  }
 },
 "nbformat": 4,
 "nbformat_minor": 5
}
