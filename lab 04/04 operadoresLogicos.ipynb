{
 "cells": [
  {
   "cell_type": "code",
   "execution_count": 2,
   "id": "24912491",
   "metadata": {},
   "outputs": [
    {
     "name": "stdout",
     "output_type": "stream",
     "text": [
      "bob é maior de idade\n"
     ]
    }
   ],
   "source": [
    "# operadores logicos\n",
    "\n",
    "idade = 18\n",
    "nome = 'bob'\n",
    "if idade > 17:\n",
    "    print(nome, \"é maior de idade\")\n",
    " "
   ]
  },
  {
   "cell_type": "code",
   "execution_count": 3,
   "id": "04fc4c79",
   "metadata": {},
   "outputs": [
    {
     "name": "stdout",
     "output_type": "stream",
     "text": [
      "bob autorizado\n"
     ]
    }
   ],
   "source": [
    "idade = 18\n",
    "\n",
    "if idade > 17 and nome == 'bob':\n",
    "    print(nome, \"autorizado\")"
   ]
  },
  {
   "cell_type": "code",
   "execution_count": 4,
   "id": "6dc3e2bb",
   "metadata": {},
   "outputs": [
    {
     "name": "stdout",
     "output_type": "stream",
     "text": [
      "duas condicoes verdadeiras\n"
     ]
    }
   ],
   "source": [
    "#operador and\n",
    "n = 4\n",
    "\n",
    "if (n > 2) and (n % 2 == 0):\n",
    "    print(\"duas condicoes verdadeiras\")"
   ]
  },
  {
   "cell_type": "code",
   "execution_count": 5,
   "id": "7e49db13",
   "metadata": {},
   "outputs": [
    {
     "name": "stdout",
     "output_type": "stream",
     "text": [
      "uma condicao falsa\n"
     ]
    }
   ],
   "source": [
    "# operador and\n",
    "\n",
    "n = 4\n",
    "\n",
    "if (n > 5) and (n % 2 == 0):\n",
    "    print(\"duas condicoes verdadeiras\")\n",
    "else:\n",
    "    print(\"uma condicao falsa\")"
   ]
  },
  {
   "cell_type": "code",
   "execution_count": 6,
   "id": "51cd0041",
   "metadata": {},
   "outputs": [
    {
     "name": "stdout",
     "output_type": "stream",
     "text": [
      "uma condicao verdadeira\n"
     ]
    }
   ],
   "source": [
    "# operador or\n",
    "\n",
    "n = 4\n",
    "\n",
    "if (n > 5) or (n % 2 == 0):\n",
    "    print(\"uma condicao verdadeira\")"
   ]
  },
  {
   "cell_type": "code",
   "execution_count": null,
   "id": "410120c5",
   "metadata": {},
   "outputs": [],
   "source": [
    "# operador not\n",
    "n = 4\n",
    "\n",
    "if not(n > 2) and (n % 2 == 0):\n",
    "    print(\"duas condicoes verdadeiras\")\n",
    "else:\n",
    "    print(\"uma das duas falsa\")"
   ]
  },
  {
   "cell_type": "code",
   "execution_count": 7,
   "id": "8f67e3f5",
   "metadata": {},
   "outputs": [
    {
     "name": "stdout",
     "output_type": "stream",
     "text": [
      "duas condicoes verdadeiras ou a terceira\n"
     ]
    }
   ],
   "source": [
    "# operador and, or e nor\n",
    "n = 4\n",
    "\n",
    "if (not(n > 5) and (n % 2 == 0)) or (n == 4):\n",
    "    print(\"duas condicoes verdadeiras ou a terceira\")"
   ]
  },
  {
   "cell_type": "code",
   "execution_count": 8,
   "id": "69886d24",
   "metadata": {},
   "outputs": [
    {
     "name": "stdout",
     "output_type": "stream",
     "text": [
      "aprovado\n"
     ]
    }
   ],
   "source": [
    "# exemplo com uso de variaveis\n",
    "\n",
    "d = 'dados'\n",
    "nota = 70\n",
    "\n",
    "if d == 'dados' and nota >= 70:\n",
    "    print(\"aprovado\")\n",
    "else:\n",
    "    print(\"reprovado\")"
   ]
  },
  {
   "cell_type": "code",
   "execution_count": null,
   "id": "d6df3672",
   "metadata": {},
   "outputs": [],
   "source": []
  },
  {
   "cell_type": "code",
   "execution_count": null,
   "id": "9a2e1751",
   "metadata": {},
   "outputs": [],
   "source": []
  },
  {
   "cell_type": "code",
   "execution_count": null,
   "id": "c0194559",
   "metadata": {},
   "outputs": [],
   "source": []
  }
 ],
 "metadata": {
  "kernelspec": {
   "display_name": "Python 3",
   "language": "python",
   "name": "python3"
  },
  "language_info": {
   "codemirror_mode": {
    "name": "ipython",
    "version": 3
   },
   "file_extension": ".py",
   "mimetype": "text/x-python",
   "name": "python",
   "nbconvert_exporter": "python",
   "pygments_lexer": "ipython3",
   "version": "3.13.0"
  }
 },
 "nbformat": 4,
 "nbformat_minor": 5
}
