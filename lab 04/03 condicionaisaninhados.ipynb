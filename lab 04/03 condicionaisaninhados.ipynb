{
 "cells": [
  {
   "cell_type": "code",
   "execution_count": 2,
   "id": "002f4441",
   "metadata": {},
   "outputs": [
    {
     "name": "stdout",
     "output_type": "stream",
     "text": [
      "Maior de idade\n"
     ]
    }
   ],
   "source": [
    "#condicionais aninhados\n",
    "idade = 18\n",
    "if idade > 17:\n",
    "    print(\"Maior de idade\")"
   ]
  },
  {
   "cell_type": "code",
   "execution_count": 3,
   "id": "83a7a1a8",
   "metadata": {},
   "outputs": [
    {
     "name": "stdout",
     "output_type": "stream",
     "text": [
      "bob Maior de idade\n"
     ]
    }
   ],
   "source": [
    "nome = 'bob'\n",
    "if idade > 13:\n",
    "    if nome == 'bob':\n",
    "        print(nome, \"Maior de idade\")\n",
    "    else:\n",
    "        print(\"Maior de idade e o nome não é bob\")"
   ]
  },
  {
   "cell_type": "code",
   "execution_count": 5,
   "id": "7852d7fe",
   "metadata": {},
   "outputs": [
    {
     "name": "stdout",
     "output_type": "stream",
     "text": [
      "bob entra\n"
     ]
    }
   ],
   "source": [
    "idade = 13\n",
    "nome = 'bob'\n",
    "\n",
    "if idade >= 13 and nome =='bob':\n",
    "    print(nome,\"entra\")"
   ]
  },
  {
   "cell_type": "code",
   "execution_count": 6,
   "id": "ed6ac014",
   "metadata": {},
   "outputs": [
    {
     "name": "stdout",
     "output_type": "stream",
     "text": [
      "bob entra\n"
     ]
    }
   ],
   "source": [
    "idade = 12\n",
    "nome = 'bob'\n",
    "\n",
    "if(idade >= 13) or (nome =='bob'):\n",
    "    print(nome,\"entra\")"
   ]
  },
  {
   "cell_type": "code",
   "execution_count": null,
   "id": "885071b9",
   "metadata": {},
   "outputs": [],
   "source": []
  },
  {
   "cell_type": "code",
   "execution_count": null,
   "id": "cb2fc049",
   "metadata": {},
   "outputs": [],
   "source": []
  },
  {
   "cell_type": "code",
   "execution_count": null,
   "id": "b323c51d",
   "metadata": {},
   "outputs": [],
   "source": []
  },
  {
   "cell_type": "code",
   "execution_count": null,
   "id": "61730331",
   "metadata": {},
   "outputs": [],
   "source": []
  },
  {
   "cell_type": "code",
   "execution_count": null,
   "id": "503270e3",
   "metadata": {},
   "outputs": [],
   "source": []
  },
  {
   "cell_type": "code",
   "execution_count": null,
   "id": "d9f1f66d",
   "metadata": {},
   "outputs": [],
   "source": []
  },
  {
   "cell_type": "code",
   "execution_count": null,
   "id": "cc3d8c20",
   "metadata": {},
   "outputs": [],
   "source": []
  },
  {
   "cell_type": "code",
   "execution_count": null,
   "id": "3847d4dd",
   "metadata": {},
   "outputs": [],
   "source": []
  },
  {
   "cell_type": "code",
   "execution_count": null,
   "id": "547395b1",
   "metadata": {},
   "outputs": [],
   "source": []
  }
 ],
 "metadata": {
  "kernelspec": {
   "display_name": "Python 3",
   "language": "python",
   "name": "python3"
  },
  "language_info": {
   "codemirror_mode": {
    "name": "ipython",
    "version": 3
   },
   "file_extension": ".py",
   "mimetype": "text/x-python",
   "name": "python",
   "nbconvert_exporter": "python",
   "pygments_lexer": "ipython3",
   "version": "3.13.0"
  }
 },
 "nbformat": 4,
 "nbformat_minor": 5
}
