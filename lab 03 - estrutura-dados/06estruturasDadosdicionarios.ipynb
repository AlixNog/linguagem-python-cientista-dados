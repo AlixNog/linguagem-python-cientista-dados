{
 "cells": [
  {
   "cell_type": "markdown",
   "id": "b962156d-55ad-47e0-baa6-db68d8c3ba5c",
   "metadata": {},
   "source": [
    "dicionarios em python"
   ]
  },
  {
   "cell_type": "code",
   "execution_count": 2,
   "id": "cf4114fa-2971-4c9e-8782-1b5d10304c74",
   "metadata": {},
   "outputs": [],
   "source": [
    "estudantes_lst = [\"pedro\",24, \"ana\",22,\"ronaldo\",26,\"janaina\",25]"
   ]
  },
  {
   "cell_type": "code",
   "execution_count": 4,
   "id": "65771130",
   "metadata": {},
   "outputs": [
    {
     "data": {
      "text/plain": [
       "list"
      ]
     },
     "execution_count": 4,
     "metadata": {},
     "output_type": "execute_result"
    }
   ],
   "source": [
    "type(estudantes_lst)"
   ]
  },
  {
   "cell_type": "code",
   "execution_count": 3,
   "id": "82ffd757-df42-4819-9433-8b389eafd112",
   "metadata": {},
   "outputs": [
    {
     "data": {
      "text/plain": [
       "['pedro', 24, 'ana', 22, 'ronaldo', 26, 'janaina', 25]"
      ]
     },
     "execution_count": 3,
     "metadata": {},
     "output_type": "execute_result"
    }
   ],
   "source": [
    "estudantes_lst"
   ]
  },
  {
   "cell_type": "code",
   "execution_count": 3,
   "id": "7b8f593d-97e0-48db-8f98-b0ff987b5a97",
   "metadata": {},
   "outputs": [],
   "source": [
    "estudantes_dict = {\"pedro\":24,\"ana\":22,\"ronaldo\":26,\"janaina\":25}"
   ]
  },
  {
   "cell_type": "code",
   "execution_count": 4,
   "id": "1eec0cad-dbfa-4a6a-8593-be8ed1694cd8",
   "metadata": {},
   "outputs": [
    {
     "data": {
      "text/plain": [
       "{'pedro': 24, 'ana': 22, 'ronaldo': 26, 'janaina': 25}"
      ]
     },
     "execution_count": 4,
     "metadata": {},
     "output_type": "execute_result"
    }
   ],
   "source": [
    "estudantes_dict"
   ]
  },
  {
   "cell_type": "code",
   "execution_count": 5,
   "id": "1035c10b-93e7-44c8-ad36-7da1fdce5237",
   "metadata": {},
   "outputs": [
    {
     "data": {
      "text/plain": [
       "24"
      ]
     },
     "execution_count": 5,
     "metadata": {},
     "output_type": "execute_result"
    }
   ],
   "source": [
    "estudantes_dict[\"pedro\"]"
   ]
  },
  {
   "cell_type": "code",
   "execution_count": 6,
   "id": "3c99d8de-4379-42e2-806c-a8bdebf9dbb3",
   "metadata": {},
   "outputs": [],
   "source": [
    "estudantes_dict[\"marcelo\"]=23"
   ]
  },
  {
   "cell_type": "code",
   "execution_count": 7,
   "id": "0a7f98d8-36e0-4cec-8f5b-25560d0baa86",
   "metadata": {},
   "outputs": [
    {
     "data": {
      "text/plain": [
       "23"
      ]
     },
     "execution_count": 7,
     "metadata": {},
     "output_type": "execute_result"
    }
   ],
   "source": [
    "estudantes_dict[\"marcelo\"]"
   ]
  },
  {
   "cell_type": "code",
   "execution_count": 8,
   "id": "37283ea4-0a78-48a3-b13d-749ef5289814",
   "metadata": {},
   "outputs": [],
   "source": [
    "estudantes_dict.clear()"
   ]
  },
  {
   "cell_type": "code",
   "execution_count": 9,
   "id": "3910594a-8470-47f7-b95e-c4fcfa090ca2",
   "metadata": {},
   "outputs": [
    {
     "data": {
      "text/plain": [
       "{}"
      ]
     },
     "execution_count": 9,
     "metadata": {},
     "output_type": "execute_result"
    }
   ],
   "source": [
    "estudantes_dict"
   ]
  },
  {
   "cell_type": "code",
   "execution_count": 10,
   "id": "3ed94520-3c94-4f68-96c6-79a373ade124",
   "metadata": {},
   "outputs": [
    {
     "ename": "SyntaxError",
     "evalue": "invalid syntax (2498136014.py, line 1)",
     "output_type": "error",
     "traceback": [
      "\u001b[1;36m  Cell \u001b[1;32mIn[10], line 1\u001b[1;36m\u001b[0m\n\u001b[1;33m    del.estudantes_dict\u001b[0m\n\u001b[1;37m       ^\u001b[0m\n\u001b[1;31mSyntaxError\u001b[0m\u001b[1;31m:\u001b[0m invalid syntax\n"
     ]
    }
   ],
   "source": [
    "del.estudantes_dict"
   ]
  },
  {
   "cell_type": "code",
   "execution_count": 11,
   "id": "53487804-c082-470e-b2d3-767d2debf468",
   "metadata": {},
   "outputs": [
    {
     "data": {
      "text/plain": [
       "{}"
      ]
     },
     "execution_count": 11,
     "metadata": {},
     "output_type": "execute_result"
    }
   ],
   "source": [
    "estudantes_dict"
   ]
  },
  {
   "cell_type": "code",
   "execution_count": 12,
   "id": "ee70e9c2-f5f6-4d9e-8dae-fbdea86ca120",
   "metadata": {},
   "outputs": [],
   "source": [
    "estudantes = {\"pedro\":24, \"ana\":22, \"ronaldo\":26, \"janaina\": 25}"
   ]
  },
  {
   "cell_type": "code",
   "execution_count": 13,
   "id": "aedf63bc-b434-43cd-9a89-5afcc8935270",
   "metadata": {},
   "outputs": [
    {
     "data": {
      "text/plain": [
       "{'pedro': 24, 'ana': 22, 'ronaldo': 26, 'janaina': 25}"
      ]
     },
     "execution_count": 13,
     "metadata": {},
     "output_type": "execute_result"
    }
   ],
   "source": [
    "estudantes"
   ]
  },
  {
   "cell_type": "code",
   "execution_count": 14,
   "id": "accaa69d-7d9a-40ad-81d2-74ebb4c34ac9",
   "metadata": {},
   "outputs": [
    {
     "data": {
      "text/plain": [
       "4"
      ]
     },
     "execution_count": 14,
     "metadata": {},
     "output_type": "execute_result"
    }
   ],
   "source": [
    "len(estudantes)"
   ]
  },
  {
   "cell_type": "code",
   "execution_count": 15,
   "id": "36b93727-d794-4b76-a2cb-f3934cd612c0",
   "metadata": {},
   "outputs": [
    {
     "data": {
      "text/plain": [
       "dict_keys(['pedro', 'ana', 'ronaldo', 'janaina'])"
      ]
     },
     "execution_count": 15,
     "metadata": {},
     "output_type": "execute_result"
    }
   ],
   "source": [
    "estudantes.keys()"
   ]
  },
  {
   "cell_type": "code",
   "execution_count": 16,
   "id": "3d89b878-9a4e-41e4-beef-7891b41489f4",
   "metadata": {},
   "outputs": [
    {
     "data": {
      "text/plain": [
       "dict_values([24, 22, 26, 25])"
      ]
     },
     "execution_count": 16,
     "metadata": {},
     "output_type": "execute_result"
    }
   ],
   "source": [
    "estudantes.values()"
   ]
  },
  {
   "cell_type": "code",
   "execution_count": 17,
   "id": "9f9eb994-e406-479f-9bb4-5ec9e5e55fe7",
   "metadata": {},
   "outputs": [
    {
     "data": {
      "text/plain": [
       "dict_items([('pedro', 24), ('ana', 22), ('ronaldo', 26), ('janaina', 25)])"
      ]
     },
     "execution_count": 17,
     "metadata": {},
     "output_type": "execute_result"
    }
   ],
   "source": [
    "estudantes.items()"
   ]
  },
  {
   "cell_type": "code",
   "execution_count": 18,
   "id": "61b96a1e-e666-472c-b460-23cb40248157",
   "metadata": {},
   "outputs": [],
   "source": [
    "estudantes2 = {\"camila\":27,\"adriana\":28, \"roberta\":26}"
   ]
  },
  {
   "cell_type": "code",
   "execution_count": 19,
   "id": "048b13ab-2a48-486c-b199-d073845ce7d7",
   "metadata": {},
   "outputs": [
    {
     "data": {
      "text/plain": [
       "{'camila': 27, 'adriana': 28, 'roberta': 26}"
      ]
     },
     "execution_count": 19,
     "metadata": {},
     "output_type": "execute_result"
    }
   ],
   "source": [
    "estudantes2"
   ]
  },
  {
   "cell_type": "code",
   "execution_count": 20,
   "id": "c3ca678a-ab86-4048-8267-2fdd1e53dc1f",
   "metadata": {},
   "outputs": [],
   "source": [
    "estudantes.update(estudantes2)"
   ]
  },
  {
   "cell_type": "code",
   "execution_count": 21,
   "id": "330b0204-1da5-456c-94c9-cb7968bd8110",
   "metadata": {},
   "outputs": [
    {
     "data": {
      "text/plain": [
       "{'pedro': 24,\n",
       " 'ana': 22,\n",
       " 'ronaldo': 26,\n",
       " 'janaina': 25,\n",
       " 'camila': 27,\n",
       " 'adriana': 28,\n",
       " 'roberta': 26}"
      ]
     },
     "execution_count": 21,
     "metadata": {},
     "output_type": "execute_result"
    }
   ],
   "source": [
    "estudantes"
   ]
  },
  {
   "cell_type": "code",
   "execution_count": 22,
   "id": "123fd8d0-e1c1-424f-9cfa-405bc84c9366",
   "metadata": {},
   "outputs": [],
   "source": [
    "dic1 = {}"
   ]
  },
  {
   "cell_type": "code",
   "execution_count": 23,
   "id": "9b882d29-de7d-4e5f-9f7c-b10066a5d8c4",
   "metadata": {},
   "outputs": [
    {
     "data": {
      "text/plain": [
       "{}"
      ]
     },
     "execution_count": 23,
     "metadata": {},
     "output_type": "execute_result"
    }
   ],
   "source": [
    "dic1"
   ]
  },
  {
   "cell_type": "code",
   "execution_count": 24,
   "id": "25115788-73f6-47df-b3b2-cec6c9d9bbe8",
   "metadata": {},
   "outputs": [],
   "source": [
    "dic1[\"chave-um\"] = 2"
   ]
  },
  {
   "cell_type": "code",
   "execution_count": 25,
   "id": "466cec2b-59cc-4b05-af50-f75a738eea00",
   "metadata": {},
   "outputs": [
    {
     "name": "stdout",
     "output_type": "stream",
     "text": [
      "{'chave-um': 2}\n"
     ]
    }
   ],
   "source": [
    "print(dic1)"
   ]
  },
  {
   "cell_type": "code",
   "execution_count": 26,
   "id": "643f8725-63e5-4689-8758-4827b9ba2a31",
   "metadata": {},
   "outputs": [],
   "source": [
    "dic1[10] =5"
   ]
  },
  {
   "cell_type": "code",
   "execution_count": 27,
   "id": "7eb5c659-ae83-42f0-9678-b56ffb34ccee",
   "metadata": {},
   "outputs": [
    {
     "data": {
      "text/plain": [
       "{'chave-um': 2, 10: 5}"
      ]
     },
     "execution_count": 27,
     "metadata": {},
     "output_type": "execute_result"
    }
   ],
   "source": [
    "dic1"
   ]
  },
  {
   "cell_type": "code",
   "execution_count": 28,
   "id": "59063892-f2a2-44c5-b59c-4b9c14ba8fb4",
   "metadata": {},
   "outputs": [],
   "source": [
    "dic1[9.13] = \"Python\""
   ]
  },
  {
   "cell_type": "code",
   "execution_count": 29,
   "id": "ad9884ef-62d5-422e-9a17-90dce1e9a2ec",
   "metadata": {},
   "outputs": [
    {
     "data": {
      "text/plain": [
       "{'chave-um': 2, 10: 5, 9.13: 'Python'}"
      ]
     },
     "execution_count": 29,
     "metadata": {},
     "output_type": "execute_result"
    }
   ],
   "source": [
    "dic1"
   ]
  },
  {
   "cell_type": "code",
   "execution_count": 32,
   "id": "046fe5e8-5ed6-4a7a-ad57-5c5021192320",
   "metadata": {},
   "outputs": [],
   "source": [
    "dic1[\"teste\"] = 5"
   ]
  },
  {
   "cell_type": "code",
   "execution_count": 33,
   "id": "e9e07cd3-c6cd-4e81-899c-f6ad9ccac28d",
   "metadata": {},
   "outputs": [
    {
     "data": {
      "text/plain": [
       "{'chave-um': 2, 10: 5, 9.13: 'Python', 'teste': 5}"
      ]
     },
     "execution_count": 33,
     "metadata": {},
     "output_type": "execute_result"
    }
   ],
   "source": [
    "dic1"
   ]
  },
  {
   "cell_type": "code",
   "execution_count": 34,
   "id": "46ded069-dd6e-4126-b30b-9578e874f3bd",
   "metadata": {},
   "outputs": [],
   "source": [
    "dict1 = {}"
   ]
  },
  {
   "cell_type": "code",
   "execution_count": 35,
   "id": "f41388a6-ac52-498c-9783-4611e178cc97",
   "metadata": {},
   "outputs": [
    {
     "data": {
      "text/plain": [
       "{}"
      ]
     },
     "execution_count": 35,
     "metadata": {},
     "output_type": "execute_result"
    }
   ],
   "source": [
    "dict1"
   ]
  },
  {
   "cell_type": "code",
   "execution_count": 36,
   "id": "6a00e5e2-5110-41d5-8e8e-8a418e784ede",
   "metadata": {},
   "outputs": [],
   "source": [
    "dict1[\"teste\"]=10"
   ]
  },
  {
   "cell_type": "code",
   "execution_count": 37,
   "id": "c6d72ad6-e469-4e3a-bc22-9c2b7d897717",
   "metadata": {},
   "outputs": [],
   "source": [
    "dict1[\"key\"]=\"teste\""
   ]
  },
  {
   "cell_type": "code",
   "execution_count": 38,
   "id": "7816d28c-d30a-49ab-b3db-5b56869adeb7",
   "metadata": {},
   "outputs": [
    {
     "data": {
      "text/plain": [
       "{'teste': 10, 'key': 'teste'}"
      ]
     },
     "execution_count": 38,
     "metadata": {},
     "output_type": "execute_result"
    }
   ],
   "source": [
    "dict1"
   ]
  },
  {
   "cell_type": "code",
   "execution_count": 39,
   "id": "1c1eebd8-05eb-4f2d-8426-6a5c34ab2313",
   "metadata": {},
   "outputs": [],
   "source": [
    "dict2 = {}"
   ]
  },
  {
   "cell_type": "code",
   "execution_count": 40,
   "id": "6254764c-bd8e-455f-90fa-190dc8dbea8b",
   "metadata": {},
   "outputs": [],
   "source": [
    "dict2[\"key1\"]=\"dados\""
   ]
  },
  {
   "cell_type": "code",
   "execution_count": 41,
   "id": "dd045cbf-a41d-4820-aca3-92bb95b28335",
   "metadata": {},
   "outputs": [],
   "source": [
    "dict2[\"key2\"]=10"
   ]
  },
  {
   "cell_type": "code",
   "execution_count": 42,
   "id": "0da408a8-a0b0-4c06-aa2d-0e967957b64a",
   "metadata": {},
   "outputs": [],
   "source": [
    "dict2[\"key3\"]=100"
   ]
  },
  {
   "cell_type": "code",
   "execution_count": 43,
   "id": "9ce82a5a-85f7-4f27-99ab-b6639bd7b6c4",
   "metadata": {},
   "outputs": [
    {
     "data": {
      "text/plain": [
       "{'key1': 'dados', 'key2': 10, 'key3': 100}"
      ]
     },
     "execution_count": 43,
     "metadata": {},
     "output_type": "execute_result"
    }
   ],
   "source": [
    "dict2"
   ]
  },
  {
   "cell_type": "code",
   "execution_count": 44,
   "id": "e150924f-7689-4713-92de-2443ba10f709",
   "metadata": {},
   "outputs": [],
   "source": [
    "a = dict2[\"key1\"]"
   ]
  },
  {
   "cell_type": "code",
   "execution_count": 45,
   "id": "d18690bb-ab92-4f6a-ae56-5a51f08f28aa",
   "metadata": {},
   "outputs": [],
   "source": [
    "b = dict2[\"key2\"]"
   ]
  },
  {
   "cell_type": "code",
   "execution_count": 46,
   "id": "29676725-2e41-4e13-b349-dbb2df7c67c8",
   "metadata": {},
   "outputs": [],
   "source": [
    "c = dict2[\"key3\"]"
   ]
  },
  {
   "cell_type": "code",
   "execution_count": 47,
   "id": "3aa74b66-1c9f-4b86-aaa8-f4acda36c342",
   "metadata": {},
   "outputs": [
    {
     "data": {
      "text/plain": [
       "('dados', 10, 100)"
      ]
     },
     "execution_count": 47,
     "metadata": {},
     "output_type": "execute_result"
    }
   ],
   "source": [
    "a ,b,c"
   ]
  },
  {
   "cell_type": "code",
   "execution_count": 6,
   "id": "5d9c6aa0-1650-4865-886c-ad9680d0678c",
   "metadata": {},
   "outputs": [
    {
     "data": {
      "text/plain": [
       "{'chave': 1230,\n",
       " 'chave2': [1, 2, 3, 4],\n",
       " 'chave3': ['tomate', 'arroz', 'banana']}"
      ]
     },
     "execution_count": 6,
     "metadata": {},
     "output_type": "execute_result"
    }
   ],
   "source": [
    "# dicionario de listas\n",
    "\n",
    "dict3 = {'chave':1230, 'chave2': [1,2,3,4], 'chave3': ['tomate','arroz','banana']}\n",
    "dict3"
   ]
  },
  {
   "cell_type": "code",
   "execution_count": 7,
   "id": "3379ecc1-a436-47ee-a3c2-a55274faf8c9",
   "metadata": {},
   "outputs": [
    {
     "data": {
      "text/plain": [
       "[1, 2, 3, 4]"
      ]
     },
     "execution_count": 7,
     "metadata": {},
     "output_type": "execute_result"
    }
   ],
   "source": [
    "dict3['chave2']"
   ]
  },
  {
   "cell_type": "code",
   "execution_count": 21,
   "id": "fb5a4b05-8191-45ba-88ca-8462a2f79a44",
   "metadata": {},
   "outputs": [
    {
     "name": "stdout",
     "output_type": "stream",
     "text": [
      "TOMATE\n",
      "-15\n",
      "-15\n"
     ]
    }
   ],
   "source": [
    "# acessando um item da lista dentro de um dicionario\n",
    "print(dict3['chave3'][0].upper())\n",
    "\n",
    "# operacoes com itens da lista dentro de um dicionario\n",
    "var1 = dict3['chave2'][0]-2\n",
    "print(var1)\n",
    "\n",
    "# duas operacoes no mesmo comando para atualizar um item dentro da lista\n",
    "dict3['chave2'][0] -= 2\n",
    "print(dict3['chave2'][0])\n"
   ]
  },
  {
   "cell_type": "code",
   "execution_count": 22,
   "id": "30f50885-cffc-4edd-83c6-6e155720ca9b",
   "metadata": {},
   "outputs": [
    {
     "data": {
      "text/plain": [
       "'dic aninhado'"
      ]
     },
     "execution_count": 22,
     "metadata": {},
     "output_type": "execute_result"
    }
   ],
   "source": [
    "# criando dicionarios aninhados\n",
    "\n",
    "dict_aninhado = {'chave1':{'key2':{'key3': 'dic aninhado'}}}\n",
    "dict_aninhado\n",
    "dict_aninhado['chave1']['key2']['key3']"
   ]
  },
  {
   "cell_type": "code",
   "execution_count": null,
   "id": "5d4cf55f-9fd5-4e51-87ad-71d132a955c2",
   "metadata": {},
   "outputs": [],
   "source": []
  },
  {
   "cell_type": "code",
   "execution_count": null,
   "id": "21a73584-dcc9-4e4e-937b-ccc9f2204e83",
   "metadata": {},
   "outputs": [],
   "source": []
  }
 ],
 "metadata": {
  "kernelspec": {
   "display_name": "Python 3",
   "language": "python",
   "name": "python3"
  },
  "language_info": {
   "codemirror_mode": {
    "name": "ipython",
    "version": 3
   },
   "file_extension": ".py",
   "mimetype": "text/x-python",
   "name": "python",
   "nbconvert_exporter": "python",
   "pygments_lexer": "ipython3",
   "version": "3.13.0"
  }
 },
 "nbformat": 4,
 "nbformat_minor": 5
}
