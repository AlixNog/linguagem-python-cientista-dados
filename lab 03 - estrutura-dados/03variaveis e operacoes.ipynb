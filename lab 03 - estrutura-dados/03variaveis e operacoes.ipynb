{
 "cells": [
  {
   "cell_type": "markdown",
   "id": "6eb9912e-8f1e-41cd-b11b-2fe0a2a50a86",
   "metadata": {},
   "source": [
    "operacoes aritmeticas"
   ]
  },
  {
   "cell_type": "code",
   "execution_count": 10,
   "id": "0eaa33f1-f3ee-4949-bef8-c347cded1efe",
   "metadata": {},
   "outputs": [],
   "source": [
    "soma = 4+4\n",
    "sub = 4-3\n",
    "mul = 3*3\n",
    "divisao = 3/2\n",
    "potencia = 4**2\n",
    "modulo = 10 % 3"
   ]
  },
  {
   "cell_type": "code",
   "execution_count": 11,
   "id": "730aff5b-6d82-4022-b8c1-05207fff45ee",
   "metadata": {},
   "outputs": [
    {
     "name": "stdout",
     "output_type": "stream",
     "text": [
      "8 ,  1 ,  9 ,  1.5 ,  16 , 1\n"
     ]
    }
   ],
   "source": [
    "print(soma,\", \" ,subtracao,\", \",mul,\", \",divisao,\", \",potencia,\",\",modulo)"
   ]
  },
  {
   "cell_type": "markdown",
   "id": "4a1acef0-6e5e-4a64-92a2-7783efceb044",
   "metadata": {},
   "source": [
    "Funcao Type"
   ]
  },
  {
   "cell_type": "code",
   "execution_count": 13,
   "id": "a0dbbdc5-a519-4e26-abaf-7db89f5c155f",
   "metadata": {},
   "outputs": [
    {
     "data": {
      "text/plain": [
       "int"
      ]
     },
     "execution_count": 13,
     "metadata": {},
     "output_type": "execute_result"
    }
   ],
   "source": [
    "type(5)"
   ]
  },
  {
   "cell_type": "code",
   "execution_count": 14,
   "id": "1fcf90ea-e7ff-4a0a-a0f2-c65ee526e5b6",
   "metadata": {},
   "outputs": [
    {
     "data": {
      "text/plain": [
       "float"
      ]
     },
     "execution_count": 14,
     "metadata": {},
     "output_type": "execute_result"
    }
   ],
   "source": [
    "type(5.0)"
   ]
  },
  {
   "cell_type": "code",
   "execution_count": 15,
   "id": "8cc6e44c-b585-4b91-bc5e-38dd809925ab",
   "metadata": {},
   "outputs": [
    {
     "data": {
      "text/plain": [
       "str"
      ]
     },
     "execution_count": 15,
     "metadata": {},
     "output_type": "execute_result"
    }
   ],
   "source": [
    "a = \"i am live\"\n",
    "type(a)"
   ]
  },
  {
   "cell_type": "markdown",
   "id": "f6725f73-a507-4d4e-aefd-9e0d7c4ae0a8",
   "metadata": {},
   "source": [
    "Operacoes com numero float"
   ]
  },
  {
   "cell_type": "code",
   "execution_count": 16,
   "id": "6cc1b968-5cae-4f72-abfd-47c8f9dfa797",
   "metadata": {},
   "outputs": [
    {
     "data": {
      "text/plain": [
       "9.5"
      ]
     },
     "execution_count": 16,
     "metadata": {},
     "output_type": "execute_result"
    }
   ],
   "source": [
    "3.1 + 6.4"
   ]
  },
  {
   "cell_type": "code",
   "execution_count": 17,
   "id": "351f68ad-af99-4f0b-9e1c-169addeed627",
   "metadata": {},
   "outputs": [
    {
     "data": {
      "text/plain": [
       "8.0"
      ]
     },
     "execution_count": 17,
     "metadata": {},
     "output_type": "execute_result"
    }
   ],
   "source": [
    "4 + 4.0"
   ]
  },
  {
   "cell_type": "code",
   "execution_count": 18,
   "id": "26aa9337-e819-4bb4-bc53-dd18f3226fba",
   "metadata": {},
   "outputs": [
    {
     "data": {
      "text/plain": [
       "2.0"
      ]
     },
     "execution_count": 18,
     "metadata": {},
     "output_type": "execute_result"
    }
   ],
   "source": [
    "4 / 2"
   ]
  },
  {
   "cell_type": "code",
   "execution_count": 19,
   "id": "8d98edbd-aeac-4090-94cc-875a8a51763d",
   "metadata": {},
   "outputs": [
    {
     "data": {
      "text/plain": [
       "2"
      ]
     },
     "execution_count": 19,
     "metadata": {},
     "output_type": "execute_result"
    }
   ],
   "source": [
    "4 // 2"
   ]
  },
  {
   "cell_type": "code",
   "execution_count": 20,
   "id": "72be8e9d-63a3-4ed2-b59d-965279fe64aa",
   "metadata": {},
   "outputs": [
    {
     "data": {
      "text/plain": [
       "1.3333333333333333"
      ]
     },
     "execution_count": 20,
     "metadata": {},
     "output_type": "execute_result"
    }
   ],
   "source": [
    "4/3.0"
   ]
  },
  {
   "cell_type": "code",
   "execution_count": 21,
   "id": "76f8bae0-9ad1-4897-a18c-22b4c36b48b8",
   "metadata": {},
   "outputs": [
    {
     "data": {
      "text/plain": [
       "1.0"
      ]
     },
     "execution_count": 21,
     "metadata": {},
     "output_type": "execute_result"
    }
   ],
   "source": [
    "4//3.0"
   ]
  },
  {
   "cell_type": "markdown",
   "id": "b339f960-78b5-44bc-aff2-07da5f47bb6b",
   "metadata": {},
   "source": [
    "Conversao"
   ]
  },
  {
   "cell_type": "code",
   "execution_count": 22,
   "id": "88b9a093-9232-4f38-b53d-2937df70d880",
   "metadata": {},
   "outputs": [
    {
     "data": {
      "text/plain": [
       "9.0"
      ]
     },
     "execution_count": 22,
     "metadata": {},
     "output_type": "execute_result"
    }
   ],
   "source": [
    "float(9)"
   ]
  },
  {
   "cell_type": "code",
   "execution_count": 23,
   "id": "a2a26b8a-8ed3-41b4-95ff-d94342ffee82",
   "metadata": {},
   "outputs": [
    {
     "data": {
      "text/plain": [
       "6"
      ]
     },
     "execution_count": 23,
     "metadata": {},
     "output_type": "execute_result"
    }
   ],
   "source": [
    "int(6.0)"
   ]
  },
  {
   "cell_type": "code",
   "execution_count": 24,
   "id": "eb32e1db-602e-4db8-b582-3ff83880f8f5",
   "metadata": {},
   "outputs": [
    {
     "data": {
      "text/plain": [
       "6"
      ]
     },
     "execution_count": 24,
     "metadata": {},
     "output_type": "execute_result"
    }
   ],
   "source": [
    "int(6.5)"
   ]
  },
  {
   "cell_type": "code",
   "execution_count": 25,
   "id": "b0b4ad0f-71b5-4cb5-aeef-243aca6681be",
   "metadata": {},
   "outputs": [
    {
     "data": {
      "text/plain": [
       "6"
      ]
     },
     "execution_count": 25,
     "metadata": {},
     "output_type": "execute_result"
    }
   ],
   "source": [
    "int(6.6)"
   ]
  },
  {
   "cell_type": "markdown",
   "id": "25f102fb-b979-45e0-bbf5-613a304a7883",
   "metadata": {},
   "source": [
    "HEXADECIMAL E BINARIO"
   ]
  },
  {
   "cell_type": "code",
   "execution_count": 26,
   "id": "378d00da-1cbb-427e-8d8f-55d801bcafb1",
   "metadata": {},
   "outputs": [
    {
     "data": {
      "text/plain": [
       "'0x18a'"
      ]
     },
     "execution_count": 26,
     "metadata": {},
     "output_type": "execute_result"
    }
   ],
   "source": [
    "hex(394)"
   ]
  },
  {
   "cell_type": "code",
   "execution_count": 27,
   "id": "c8fcc3e7-4789-4746-b609-ea4668b0b89c",
   "metadata": {},
   "outputs": [
    {
     "data": {
      "text/plain": [
       "'0xd9'"
      ]
     },
     "execution_count": 27,
     "metadata": {},
     "output_type": "execute_result"
    }
   ],
   "source": [
    "hex(217)"
   ]
  },
  {
   "cell_type": "code",
   "execution_count": 28,
   "id": "b01805c6-5d1b-43ea-b531-09cf3f0b7e8c",
   "metadata": {},
   "outputs": [
    {
     "data": {
      "text/plain": [
       "'0b100011110'"
      ]
     },
     "execution_count": 28,
     "metadata": {},
     "output_type": "execute_result"
    }
   ],
   "source": [
    "bin(286)"
   ]
  },
  {
   "cell_type": "code",
   "execution_count": 29,
   "id": "1ead5918-f780-416c-9361-48826b5dfb49",
   "metadata": {},
   "outputs": [
    {
     "data": {
      "text/plain": [
       "'0b110000110'"
      ]
     },
     "execution_count": 29,
     "metadata": {},
     "output_type": "execute_result"
    }
   ],
   "source": [
    "bin(390)"
   ]
  },
  {
   "cell_type": "markdown",
   "id": "40c93844-09e2-48b5-bef6-f9d5c59ed2ec",
   "metadata": {},
   "source": [
    "abs round pow"
   ]
  },
  {
   "cell_type": "code",
   "execution_count": 30,
   "id": "be86be0d-ac90-4d79-8399-4b3b4d762dd0",
   "metadata": {},
   "outputs": [
    {
     "data": {
      "text/plain": [
       "8"
      ]
     },
     "execution_count": 30,
     "metadata": {},
     "output_type": "execute_result"
    }
   ],
   "source": [
    "abs(-8)"
   ]
  },
  {
   "cell_type": "code",
   "execution_count": 31,
   "id": "8a51cdcf-db74-43aa-a012-bee04e92ef2c",
   "metadata": {},
   "outputs": [
    {
     "data": {
      "text/plain": [
       "8"
      ]
     },
     "execution_count": 31,
     "metadata": {},
     "output_type": "execute_result"
    }
   ],
   "source": [
    "abs(8)"
   ]
  },
  {
   "cell_type": "code",
   "execution_count": 32,
   "id": "8ef7790c-5153-4341-ac67-8c0bac486b2e",
   "metadata": {},
   "outputs": [
    {
     "data": {
      "text/plain": [
       "3.14"
      ]
     },
     "execution_count": 32,
     "metadata": {},
     "output_type": "execute_result"
    }
   ],
   "source": [
    "round(3.14151922, 2)"
   ]
  },
  {
   "cell_type": "code",
   "execution_count": 33,
   "id": "bb897561-d81c-4a6d-bab9-cbba2c1af860",
   "metadata": {},
   "outputs": [
    {
     "data": {
      "text/plain": [
       "16"
      ]
     },
     "execution_count": 33,
     "metadata": {},
     "output_type": "execute_result"
    }
   ],
   "source": [
    "pow(4,2)"
   ]
  },
  {
   "cell_type": "code",
   "execution_count": 34,
   "id": "248863fd-ed87-4f6f-a366-919378693336",
   "metadata": {},
   "outputs": [
    {
     "data": {
      "text/plain": [
       "125"
      ]
     },
     "execution_count": 34,
     "metadata": {},
     "output_type": "execute_result"
    }
   ],
   "source": [
    "pow(5,3)"
   ]
  },
  {
   "cell_type": "code",
   "execution_count": null,
   "id": "6a0269e5-bf6a-4673-9ccd-12b827fffcc2",
   "metadata": {},
   "outputs": [],
   "source": []
  },
  {
   "cell_type": "code",
   "execution_count": null,
   "id": "ced846d7-0959-49a0-b694-fb62c86dbb8d",
   "metadata": {},
   "outputs": [],
   "source": []
  },
  {
   "cell_type": "code",
   "execution_count": null,
   "id": "0f90da1b-3673-408e-a7c6-76d658e4f1a8",
   "metadata": {},
   "outputs": [],
   "source": []
  },
  {
   "cell_type": "code",
   "execution_count": null,
   "id": "5e8020ce-02ae-4317-95a5-ed392fb486ae",
   "metadata": {},
   "outputs": [],
   "source": []
  },
  {
   "cell_type": "code",
   "execution_count": null,
   "id": "99f15d7a-8191-4ff7-b0dc-710d33a9f7b8",
   "metadata": {},
   "outputs": [],
   "source": []
  },
  {
   "cell_type": "code",
   "execution_count": null,
   "id": "e054c239-e57b-45a1-aabb-0cce8b934bc7",
   "metadata": {},
   "outputs": [],
   "source": []
  },
  {
   "cell_type": "code",
   "execution_count": null,
   "id": "3a8b8843-4267-4acb-858f-d8ee9a5750c9",
   "metadata": {},
   "outputs": [],
   "source": []
  },
  {
   "cell_type": "code",
   "execution_count": null,
   "id": "fb0f683c-4c68-4323-9081-a862dbfe46ee",
   "metadata": {},
   "outputs": [],
   "source": []
  }
 ],
 "metadata": {
  "kernelspec": {
   "display_name": "Python 3 (ipykernel)",
   "language": "python",
   "name": "python3"
  },
  "language_info": {
   "codemirror_mode": {
    "name": "ipython",
    "version": 3
   },
   "file_extension": ".py",
   "mimetype": "text/x-python",
   "name": "python",
   "nbconvert_exporter": "python",
   "pygments_lexer": "ipython3",
   "version": "3.12.7"
  }
 },
 "nbformat": 4,
 "nbformat_minor": 5
}
