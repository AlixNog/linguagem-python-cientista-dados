{
 "cells": [
  {
   "cell_type": "code",
   "execution_count": 1,
   "id": "c83ca3b9",
   "metadata": {},
   "outputs": [
    {
     "name": "stdout",
     "output_type": "stream",
     "text": [
      "[1, 2, 3, 4, 5, 6, 7, 8, 9, 10]\n"
     ]
    }
   ],
   "source": [
    "#Imprima na tela os números de 1 a 10. Use uma lista para armazenar os números.\n",
    "\n",
    "lista1 = list(range(1, 11))\n",
    "print(lista1)"
   ]
  },
  {
   "cell_type": "code",
   "execution_count": null,
   "id": "83a2b48b",
   "metadata": {},
   "outputs": [
    {
     "name": "stdout",
     "output_type": "stream",
     "text": [
      "['leite', 'cafe', 'uva', 'banana', 'kiwi']\n"
     ]
    }
   ],
   "source": [
    "# Crie uma lista de 5 objetos e imprima na tela\n",
    "\n",
    "lista2 = ['leite', 'cafe', 'uva', 'banana', 'kiwi']\n",
    "print(lista2)"
   ]
  },
  {
   "cell_type": "code",
   "execution_count": 5,
   "id": "9a96ed76",
   "metadata": {},
   "outputs": [
    {
     "name": "stdout",
     "output_type": "stream",
     "text": [
      "alice batista\n"
     ]
    }
   ],
   "source": [
    "#Crie duas strings e concatene as duas em uma terceira string\n",
    "\n",
    "a = 'alice '\n",
    "b = 'batista'\n",
    "c= a + b\n",
    "print(c)"
   ]
  },
  {
   "cell_type": "code",
   "execution_count": null,
   "id": "cde9053d",
   "metadata": {},
   "outputs": [
    {
     "name": "stdout",
     "output_type": "stream",
     "text": [
      "3\n"
     ]
    }
   ],
   "source": [
    "#crie uma tupla com os seguintes elementos: 1, 2, 2, 3, 4, 4, 4, 5 e depois utilize a função count do \n",
    "# objeto tupla para verificar quantas vezes o número 4 aparece na tupla\n",
    "\n",
    "tupla1 = (1, 2, 2, 3, 4, 4, 4, 5)\n",
    "conta = tupla1.count(4)\n",
    "print(conta)\n"
   ]
  },
  {
   "cell_type": "code",
   "execution_count": 10,
   "id": "f2130397",
   "metadata": {},
   "outputs": [
    {
     "name": "stdout",
     "output_type": "stream",
     "text": [
      "{}\n"
     ]
    }
   ],
   "source": [
    "# Crie um dicionário vazio e imprima na tela\n",
    "\n",
    "dic1 = {}\n",
    "print(dic1)"
   ]
  },
  {
   "cell_type": "code",
   "execution_count": 11,
   "id": "405fa4f9",
   "metadata": {},
   "outputs": [
    {
     "name": "stdout",
     "output_type": "stream",
     "text": [
      "{'nome': 'alice', 'tamanho': 1.8, 'profissao': 'analista dados'}\n"
     ]
    }
   ],
   "source": [
    "#  Crie um dicionário com 3 chaves e 3 valores e imprima na tela\n",
    "\n",
    "dic2 = {'nome': 'alice', 'tamanho': 1.80, 'profissao': 'analista dados'}\n",
    "\n",
    "print(dic2)"
   ]
  },
  {
   "cell_type": "code",
   "execution_count": 13,
   "id": "fa423b37",
   "metadata": {},
   "outputs": [
    {
     "name": "stdout",
     "output_type": "stream",
     "text": [
      "{'nome': 'alice', 'tamanho': 1.8, 'profissao': 'analista dados', 'peso': 40, 'olhos': 'azul'}\n"
     ]
    }
   ],
   "source": [
    "#  Adicione mais um elemento ao dicionário criado no exercício anterior e imprima na tela\n",
    "\n",
    "dic2['peso'] = 40\n",
    "dic2['olhos'] = 'azul'\n",
    "\n",
    "print(dic2)"
   ]
  },
  {
   "cell_type": "code",
   "execution_count": 14,
   "id": "51617dce",
   "metadata": {},
   "outputs": [
    {
     "name": "stdout",
     "output_type": "stream",
     "text": [
      "{'banana': 1.5, 'uva': 9.35, 'kiwi': [15.36, 17.69]}\n"
     ]
    }
   ],
   "source": [
    "# Exercício 8 - Crie um dicionário com 3 chaves e 3 valores. \n",
    "# Um dos valores deve ser uma lista de 2 elementos numéricos. \n",
    "# Imprima o dicionário na tela.\n",
    "\n",
    "\n",
    "dic3 = {'banana': 1.50, 'uva': 9.35, 'kiwi': [15.36, 17.69]}\n",
    "\n",
    "print(dic3)"
   ]
  },
  {
   "cell_type": "code",
   "execution_count": 16,
   "id": "269eb8af",
   "metadata": {},
   "outputs": [
    {
     "name": "stdout",
     "output_type": "stream",
     "text": [
      "['alice', {'olhos', 'cabelo'}, {'idade': 25, 'peso': 40}, 1000.6589]\n"
     ]
    }
   ],
   "source": [
    "# Crie uma lista de 4 elementos. O primeiro elemento deve ser uma string, \n",
    "# o segundo uma tupla de 2 elementos, o terceiro um dcionário com 2 chaves e 2 valores e \n",
    "# o quarto elemento um valor do tipo float.\n",
    "# Imprima a lista.\n",
    "\n",
    "lista4 = ['alice', {'cabelo', 'olhos'}, {'idade': 25, 'peso': 40}, 1000.6589]\n",
    "\n",
    "print(lista4)"
   ]
  },
  {
   "cell_type": "code",
   "execution_count": 18,
   "id": "ab28f2ee",
   "metadata": {},
   "outputs": [
    {
     "name": "stdout",
     "output_type": "stream",
     "text": [
      "Cientista de Dados \n"
     ]
    }
   ],
   "source": [
    "# Considere a string abaixo. Imprima na tela apenas os caracteres da posição 1 a 18.\n",
    "frase = 'Cientista de Dados é o profissional mais sexy do século XXI'\n",
    "\n",
    "print(frase[0:19])"
   ]
  },
  {
   "cell_type": "code",
   "execution_count": null,
   "id": "848ebfab",
   "metadata": {},
   "outputs": [],
   "source": []
  },
  {
   "cell_type": "code",
   "execution_count": null,
   "id": "779bb550",
   "metadata": {},
   "outputs": [],
   "source": []
  },
  {
   "cell_type": "code",
   "execution_count": null,
   "id": "c8476c44",
   "metadata": {},
   "outputs": [],
   "source": []
  }
 ],
 "metadata": {
  "kernelspec": {
   "display_name": "Python 3",
   "language": "python",
   "name": "python3"
  },
  "language_info": {
   "codemirror_mode": {
    "name": "ipython",
    "version": 3
   },
   "file_extension": ".py",
   "mimetype": "text/x-python",
   "name": "python",
   "nbconvert_exporter": "python",
   "pygments_lexer": "ipython3",
   "version": "3.13.0"
  }
 },
 "nbformat": 4,
 "nbformat_minor": 5
}
