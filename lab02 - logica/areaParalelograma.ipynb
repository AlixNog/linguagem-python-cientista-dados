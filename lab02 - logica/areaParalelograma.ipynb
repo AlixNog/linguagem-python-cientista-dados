{
 "cells": [
  {
   "cell_type": "code",
   "execution_count": 1,
   "id": "ceccb8f3-3b9f-4ae4-94d4-decfb6e9d32e",
   "metadata": {},
   "outputs": [
    {
     "name": "stdout",
     "output_type": "stream",
     "text": [
      "area paralelograma\n"
     ]
    }
   ],
   "source": [
    "print(\"area paralelograma\")"
   ]
  },
  {
   "cell_type": "code",
   "execution_count": 5,
   "id": "6704da1e-3f09-4829-a096-a6f1835a15ac",
   "metadata": {},
   "outputs": [
    {
     "name": "stdout",
     "output_type": "stream",
     "text": [
      "comprimento :  2\n",
      "altura :  3\n"
     ]
    },
    {
     "name": "stdout",
     "output_type": "stream",
     "text": [
      "area total :  6.0\n"
     ]
    }
   ],
   "source": [
    "base = float(input(\"comprimento : \"))\n",
    "altura = float(input(\"altura : \"))\n",
    "area = base * altura\n",
    "print(\"area total : \",area)"
   ]
  },
  {
   "cell_type": "markdown",
   "id": "97941644-89d5-4016-9088-3ac1578c430b",
   "metadata": {},
   "source": [
    "#calculadora simples"
   ]
  },
  {
   "cell_type": "code",
   "execution_count": 6,
   "id": "47453aa2-90d0-4437-8018-b469b12951c6",
   "metadata": {},
   "outputs": [
    {
     "name": "stdout",
     "output_type": "stream",
     "text": [
      "calculadora\n"
     ]
    }
   ],
   "source": [
    "print(\"calculadora\")"
   ]
  },
  {
   "cell_type": "code",
   "execution_count": 11,
   "id": "8228132d-bf46-4091-8740-a44eb66a847a",
   "metadata": {},
   "outputs": [
    {
     "name": "stdout",
     "output_type": "stream",
     "text": [
      "numero 1:  10\n",
      "numero 2:  2\n",
      " +, -, *, / :  /\n"
     ]
    },
    {
     "name": "stdout",
     "output_type": "stream",
     "text": [
      "5.0\n"
     ]
    }
   ],
   "source": [
    "num1 = float(input(\"numero 1: \"))\n",
    "num2 = float(input(\"numero 2: \"))\n",
    "\n",
    "operacao = input(\" +, -, *, / : \")\n",
    "\n",
    "if operacao == \"+\":\n",
    "    resultado = int(num1 + num2)\n",
    "    print(resultado)\n",
    "\n",
    "elif operacao == \"-\":\n",
    "    resultado = int(num1 - num2)\n",
    "    print(resultado)\n",
    "\n",
    "elif operacao == \"*\":\n",
    "    resultado = float(num1 * num2)\n",
    "    print(resultado)\n",
    "\n",
    "elif operacao == \"/\":\n",
    "    resultado = float(num1 / num2)\n",
    "    print(resultado)\n",
    "else:\n",
    "    print(\"use valor valido\")\n",
    "\n"
   ]
  },
  {
   "cell_type": "markdown",
   "id": "c040fe44-eb0c-437a-b551-1a3e5ffe17b0",
   "metadata": {},
   "source": [
    "bubble sort"
   ]
  },
  {
   "cell_type": "code",
   "execution_count": 13,
   "id": "58277c60-9594-4fcb-ba6b-9d6c7e9f0610",
   "metadata": {},
   "outputs": [],
   "source": [
    "lista =[9,2,5,78,4,56,3,7,24,1,8,19,22]"
   ]
  },
  {
   "cell_type": "code",
   "execution_count": 15,
   "id": "fb1edd88-9437-4055-b2a8-94b981ff6843",
   "metadata": {},
   "outputs": [
    {
     "name": "stdout",
     "output_type": "stream",
     "text": [
      "[1, 2, 3, 4, 5, 7, 8, 9, 19, 22, 24, 56, 78]\n"
     ]
    }
   ],
   "source": [
    "def bubble_sort(arr):\n",
    "    n = len(arr)\n",
    "\n",
    "    for i in range(n):\n",
    "        for j in range(0, n-i-1):\n",
    "            if arr[j] > arr[j+1]:\n",
    "                arr[j],arr[j+1] = arr[j+1],arr[j]\n",
    "\n",
    "    return arr\n",
    "\n",
    "print(bubble_sort(lista))"
   ]
  },
  {
   "cell_type": "code",
   "execution_count": null,
   "id": "39fc8e07-ca65-4c72-a218-099e046c8b5c",
   "metadata": {},
   "outputs": [],
   "source": []
  }
 ],
 "metadata": {
  "kernelspec": {
   "display_name": "Python 3",
   "language": "python",
   "name": "python3"
  },
  "language_info": {
   "codemirror_mode": {
    "name": "ipython",
    "version": 3
   },
   "file_extension": ".py",
   "mimetype": "text/x-python",
   "name": "python",
   "nbconvert_exporter": "python",
   "pygments_lexer": "ipython3",
   "version": "3.13.0"
  }
 },
 "nbformat": 4,
 "nbformat_minor": 5
}
