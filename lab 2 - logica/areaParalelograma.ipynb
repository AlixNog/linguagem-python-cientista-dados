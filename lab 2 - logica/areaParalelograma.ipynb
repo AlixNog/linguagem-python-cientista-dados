{
 "cells": [
  {
   "cell_type": "code",
   "execution_count": 1,
   "id": "ceccb8f3-3b9f-4ae4-94d4-decfb6e9d32e",
   "metadata": {},
   "outputs": [
    {
     "name": "stdout",
     "output_type": "stream",
     "text": [
      "area paralelograma\n"
     ]
    }
   ],
   "source": [
    "print(\"area paralelograma\")"
   ]
  },
  {
   "cell_type": "code",
   "execution_count": 5,
   "id": "6704da1e-3f09-4829-a096-a6f1835a15ac",
   "metadata": {},
   "outputs": [
    {
     "name": "stdin",
     "output_type": "stream",
     "text": [
      "comprimento :  2\n",
      "altura :  3\n"
     ]
    },
    {
     "name": "stdout",
     "output_type": "stream",
     "text": [
      "area total :  6.0\n"
     ]
    }
   ],
   "source": [
    "base = float(input(\"comprimento : \"))\n",
    "altura = float(input(\"altura : \"))\n",
    "area = base * altura\n",
    "print(\"area total : \",area)"
   ]
  },
  {
   "cell_type": "code",
   "execution_count": null,
   "id": "d070ac63-5124-4453-99bd-05da5713eed5",
   "metadata": {},
   "outputs": [],
   "source": []
  }
 ],
 "metadata": {
  "kernelspec": {
   "display_name": "Python 3 (ipykernel)",
   "language": "python",
   "name": "python3"
  },
  "language_info": {
   "codemirror_mode": {
    "name": "ipython",
    "version": 3
   },
   "file_extension": ".py",
   "mimetype": "text/x-python",
   "name": "python",
   "nbconvert_exporter": "python",
   "pygments_lexer": "ipython3",
   "version": "3.12.7"
  }
 },
 "nbformat": 4,
 "nbformat_minor": 5
}
