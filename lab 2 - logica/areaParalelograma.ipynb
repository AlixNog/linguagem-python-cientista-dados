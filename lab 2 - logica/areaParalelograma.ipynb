{
 "cells": [
  {
   "cell_type": "code",
   "execution_count": 1,
   "id": "ceccb8f3-3b9f-4ae4-94d4-decfb6e9d32e",
   "metadata": {},
   "outputs": [
    {
     "name": "stdout",
     "output_type": "stream",
     "text": [
      "area paralelograma\n"
     ]
    }
   ],
   "source": [
    "print(\"area paralelograma\")"
   ]
  },
  {
   "cell_type": "code",
   "execution_count": 5,
   "id": "6704da1e-3f09-4829-a096-a6f1835a15ac",
   "metadata": {},
   "outputs": [
    {
     "name": "stdin",
     "output_type": "stream",
     "text": [
      "comprimento :  2\n",
      "altura :  3\n"
     ]
    },
    {
     "name": "stdout",
     "output_type": "stream",
     "text": [
      "area total :  6.0\n"
     ]
    }
   ],
   "source": [
    "base = float(input(\"comprimento : \"))\n",
    "altura = float(input(\"altura : \"))\n",
    "area = base * altura\n",
    "print(\"area total : \",area)"
   ]
  },
  {
   "cell_type": "markdown",
   "id": "97941644-89d5-4016-9088-3ac1578c430b",
   "metadata": {},
   "source": [
    "#calculadora simples"
   ]
  },
  {
   "cell_type": "code",
   "execution_count": 6,
   "id": "47453aa2-90d0-4437-8018-b469b12951c6",
   "metadata": {},
   "outputs": [
    {
     "name": "stdout",
     "output_type": "stream",
     "text": [
      "calculadora\n"
     ]
    }
   ],
   "source": [
    "print(\"calculadora\")"
   ]
  },
  {
   "cell_type": "code",
   "execution_count": 9,
   "id": "8228132d-bf46-4091-8740-a44eb66a847a",
   "metadata": {},
   "outputs": [
    {
     "name": "stdin",
     "output_type": "stream",
     "text": [
      "numero 1:  10\n",
      "numero 2:  2\n",
      " +, -, *, / :  -\n"
     ]
    },
    {
     "name": "stdout",
     "output_type": "stream",
     "text": [
      "8.0\n"
     ]
    }
   ],
   "source": [
    "num1 = float(input(\"numero 1: \"))\n",
    "num2 = float(input(\"numero 2: \"))\n",
    "\n",
    "operacao = input(\" +, -, *, / : \")\n",
    "\n",
    "if operacao == \"+\":\n",
    "    resultado = num1 + num2\n",
    "    print(resultado)\n",
    "\n",
    "elif operacao == \"-\":\n",
    "    resultado = num1 - num2\n",
    "    print(resultado)\n",
    "\n",
    "elif operacao == \"*\":\n",
    "    resultado = num1 * num2\n",
    "    print(resultado)\n",
    "\n",
    "elif operacao == \"/\":\n",
    "    resultado = num1 / num2\n",
    "    print(resultado)\n",
    "else:\n",
    "    print(\"use valor valido\")\n",
    "\n"
   ]
  },
  {
   "cell_type": "code",
   "execution_count": null,
   "id": "1adf6601-a4ce-469c-bd5e-3d3de632e89d",
   "metadata": {},
   "outputs": [],
   "source": []
  }
 ],
 "metadata": {
  "kernelspec": {
   "display_name": "Python 3 (ipykernel)",
   "language": "python",
   "name": "python3"
  },
  "language_info": {
   "codemirror_mode": {
    "name": "ipython",
    "version": 3
   },
   "file_extension": ".py",
   "mimetype": "text/x-python",
   "name": "python",
   "nbconvert_exporter": "python",
   "pygments_lexer": "ipython3",
   "version": "3.12.7"
  }
 },
 "nbformat": 4,
 "nbformat_minor": 5
}
