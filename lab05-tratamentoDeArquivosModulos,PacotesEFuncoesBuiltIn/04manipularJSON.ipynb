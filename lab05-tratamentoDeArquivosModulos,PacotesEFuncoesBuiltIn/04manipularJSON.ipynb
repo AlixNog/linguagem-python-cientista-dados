{
 "cells": [
  {
   "cell_type": "code",
   "execution_count": 5,
   "id": "ee1cb3c9",
   "metadata": {},
   "outputs": [],
   "source": [
    "#criando dicionario\n",
    "dict_guido = { 'nome': 'Guido van Rossum', \n",
    "              'linguagem': 'Python', \n",
    "              'ano_criacao': 1991, \n",
    "              'similar': ['Java', 'C', 'C++'],\n",
    "              'users': 1000000 }"
   ]
  },
  {
   "cell_type": "code",
   "execution_count": 6,
   "id": "f1df42b9",
   "metadata": {},
   "outputs": [
    {
     "name": "stdout",
     "output_type": "stream",
     "text": [
      "nome Guido van Rossum\n",
      "linguagem Python\n",
      "ano_criacao 1991\n",
      "similar ['Java', 'C', 'C++']\n",
      "users 1000000\n"
     ]
    }
   ],
   "source": [
    "for k,v in dict_guido.items():\n",
    "    print(k,v)"
   ]
  },
  {
   "cell_type": "code",
   "execution_count": 7,
   "id": "ebd4a251",
   "metadata": {},
   "outputs": [],
   "source": [
    "#import modulo JSON\n",
    "import json"
   ]
  },
  {
   "cell_type": "code",
   "execution_count": 8,
   "id": "f9bb1d1c",
   "metadata": {},
   "outputs": [
    {
     "data": {
      "text/plain": [
       "'{\"nome\": \"Guido van Rossum\", \"linguagem\": \"Python\", \"ano_criacao\": 1991, \"similar\": [\"Java\", \"C\", \"C++\"], \"users\": 1000000}'"
      ]
     },
     "execution_count": 8,
     "metadata": {},
     "output_type": "execute_result"
    }
   ],
   "source": [
    "#convertendo dicionario para objeto json\n",
    "json.dumps(dict_guido)"
   ]
  },
  {
   "cell_type": "code",
   "execution_count": 9,
   "id": "52da0b23",
   "metadata": {},
   "outputs": [],
   "source": [
    "#criando arquivo json\n",
    "with open('guido.json', 'w') as f:\n",
    "    json.dump(dict_guido, f, indent=4)"
   ]
  },
  {
   "cell_type": "code",
   "execution_count": null,
   "id": "a37371bf",
   "metadata": {},
   "outputs": [],
   "source": []
  },
  {
   "cell_type": "code",
   "execution_count": null,
   "id": "76b86efb",
   "metadata": {},
   "outputs": [],
   "source": []
  },
  {
   "cell_type": "code",
   "execution_count": null,
   "id": "ac483910",
   "metadata": {},
   "outputs": [],
   "source": []
  },
  {
   "cell_type": "code",
   "execution_count": null,
   "id": "135a1a46",
   "metadata": {},
   "outputs": [],
   "source": []
  }
 ],
 "metadata": {
  "kernelspec": {
   "display_name": "Python 3",
   "language": "python",
   "name": "python3"
  },
  "language_info": {
   "codemirror_mode": {
    "name": "ipython",
    "version": 3
   },
   "file_extension": ".py",
   "mimetype": "text/x-python",
   "name": "python",
   "nbconvert_exporter": "python",
   "pygments_lexer": "ipython3",
   "version": "3.13.0"
  }
 },
 "nbformat": 4,
 "nbformat_minor": 5
}
