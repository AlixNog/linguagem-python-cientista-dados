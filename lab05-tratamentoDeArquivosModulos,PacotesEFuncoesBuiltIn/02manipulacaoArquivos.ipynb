{
 "cells": [
  {
   "cell_type": "code",
   "execution_count": 1,
   "id": "ac68830a",
   "metadata": {},
   "outputs": [],
   "source": [
    "# abrindo arquivo para leitura\n",
    "\n",
    "arq1 = open(\"00arquivos/arquivo1.txt\",\"r\")"
   ]
  },
  {
   "cell_type": "code",
   "execution_count": 2,
   "id": "ff2913ee",
   "metadata": {},
   "outputs": [
    {
     "name": "stdout",
     "output_type": "stream",
     "text": [
      "A Data Science Academy fornece cursos de alta qualidade e que transmitem muito conhecimento.\n"
     ]
    }
   ],
   "source": [
    "# lendo o arquivo \n",
    "print(arq1.read())"
   ]
  },
  {
   "cell_type": "code",
   "execution_count": 3,
   "id": "a2a1d27f",
   "metadata": {},
   "outputs": [
    {
     "name": "stdout",
     "output_type": "stream",
     "text": [
      "92\n"
     ]
    }
   ],
   "source": [
    "# contar o numero de caracters\n",
    "print(arq1.tell())"
   ]
  },
  {
   "cell_type": "code",
   "execution_count": 4,
   "id": "758ca893",
   "metadata": {},
   "outputs": [
    {
     "name": "stdout",
     "output_type": "stream",
     "text": [
      "0\n"
     ]
    }
   ],
   "source": [
    "# retorna para o inicio do arquivo\n",
    "print(arq1.seek(0,0))"
   ]
  },
  {
   "cell_type": "code",
   "execution_count": 5,
   "id": "a5097908",
   "metadata": {},
   "outputs": [
    {
     "name": "stdout",
     "output_type": "stream",
     "text": [
      "A Data Science Academy \n"
     ]
    }
   ],
   "source": [
    "# lendo os primeiros 23 caracteres\n",
    "print(arq1.read(23))"
   ]
  },
  {
   "cell_type": "code",
   "execution_count": null,
   "id": "5f2da8d1",
   "metadata": {},
   "outputs": [],
   "source": []
  },
  {
   "cell_type": "code",
   "execution_count": null,
   "id": "b24cf11e",
   "metadata": {},
   "outputs": [],
   "source": []
  },
  {
   "cell_type": "code",
   "execution_count": null,
   "id": "c905997a",
   "metadata": {},
   "outputs": [],
   "source": []
  }
 ],
 "metadata": {
  "kernelspec": {
   "display_name": "Python 3",
   "language": "python",
   "name": "python3"
  },
  "language_info": {
   "codemirror_mode": {
    "name": "ipython",
    "version": 3
   },
   "file_extension": ".py",
   "mimetype": "text/x-python",
   "name": "python",
   "nbconvert_exporter": "python",
   "pygments_lexer": "ipython3",
   "version": "3.13.0"
  }
 },
 "nbformat": 4,
 "nbformat_minor": 5
}
