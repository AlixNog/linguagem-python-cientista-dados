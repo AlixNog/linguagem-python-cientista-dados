{
 "cells": [
  {
   "cell_type": "code",
   "execution_count": null,
   "id": "1546947b",
   "metadata": {},
   "outputs": [],
   "source": [
    "print(\"\\n***************************** Python Calculator *****************************\\n\")"
   ]
  },
  {
   "cell_type": "code",
   "execution_count": 5,
   "id": "02e4bb7d",
   "metadata": {},
   "outputs": [
    {
     "name": "stdout",
     "output_type": "stream",
     "text": [
      "\n",
      "Selecione o numero que corresponde a operacao: \n",
      "\n",
      "1 - Soma\n",
      "2 - Subtracao\n",
      "3 - Multiplicacao\n",
      "4 - Divisao\n",
      "\n",
      "Resultado:  2 + 6 = 8\n"
     ]
    }
   ],
   "source": [
    "def add(x, y):\n",
    "    return x + y\n",
    "\n",
    "def subtract(x,y):\n",
    "    if x < y:\n",
    "        return (\"nao existe subtracao negativa\")\n",
    "    else:\n",
    "        return x - y\n",
    "\n",
    "def multiply(x,y):\n",
    "    return x * y\n",
    "\n",
    "def divide(x,y):\n",
    "    if y == 0:\n",
    "        return (\"nao existe divisao por zero\")\n",
    "    return x/y\n",
    "\n",
    "print(\"\\nSelecione o numero que corresponde a operacao: \\n\")\n",
    "\n",
    "print(\"1 - Soma\")\n",
    "print(\"2 - Subtracao\")\n",
    "print(\"3 - Multiplicacao\")\n",
    "print(\"4 - Divisao\")\n",
    "\n",
    "escolha = input(\"\\nDigite o numero da operacao desejada: 1 / 2 /3 / 4: \\n\")\n",
    "\n",
    "num1 = int(input(\"\\nDigite o primeiro numero: \\n\"))\n",
    "num2 = int(input(\"\\nDigite o segundo numero: \\n\"))\n",
    "\n",
    "if escolha == '1':\n",
    "    print(\"\\nResultado: \", num1, \"+\", num2, \"=\", add(num1,num2))\n",
    "elif escolha == '2':\n",
    "    print(\"\\nResultado: \", num1, \"-\", num2, \"=\", subtract(num1,num2))\n",
    "elif escolha == '3':\n",
    "    print(\"\\nResultado: \", num1, \"*\", num2, \"=\", multiply(num1,num2))\n",
    "elif escolha == '4':\n",
    "    print(\"\\nResultado: \", num1, \"/\", num2, \"=\", divide(num1,num2))\n",
    "else:\n",
    "    print(\"\\nOperacao invalida\")\n",
    "    print(\"\\nTente novamente\")\n",
    "    print(\"\\n***************************** Python Calculator *****************************\\n\")"
   ]
  },
  {
   "cell_type": "code",
   "execution_count": null,
   "id": "022a6b89",
   "metadata": {},
   "outputs": [],
   "source": []
  },
  {
   "cell_type": "code",
   "execution_count": null,
   "id": "4edecb21",
   "metadata": {},
   "outputs": [],
   "source": []
  },
  {
   "cell_type": "code",
   "execution_count": null,
   "id": "babbf988",
   "metadata": {},
   "outputs": [],
   "source": []
  },
  {
   "cell_type": "code",
   "execution_count": null,
   "id": "221d096b",
   "metadata": {},
   "outputs": [],
   "source": []
  },
  {
   "cell_type": "code",
   "execution_count": null,
   "id": "4a08817e",
   "metadata": {},
   "outputs": [],
   "source": []
  },
  {
   "cell_type": "code",
   "execution_count": null,
   "id": "6e3af9ef",
   "metadata": {},
   "outputs": [],
   "source": []
  },
  {
   "cell_type": "code",
   "execution_count": null,
   "id": "5c36b8de",
   "metadata": {},
   "outputs": [],
   "source": []
  },
  {
   "cell_type": "code",
   "execution_count": null,
   "id": "028f1b70",
   "metadata": {},
   "outputs": [],
   "source": []
  },
  {
   "cell_type": "code",
   "execution_count": null,
   "id": "0c6966c0",
   "metadata": {},
   "outputs": [],
   "source": []
  },
  {
   "cell_type": "code",
   "execution_count": null,
   "id": "d5408de6",
   "metadata": {},
   "outputs": [],
   "source": []
  }
 ],
 "metadata": {
  "kernelspec": {
   "display_name": "Python 3",
   "language": "python",
   "name": "python3"
  },
  "language_info": {
   "codemirror_mode": {
    "name": "ipython",
    "version": 3
   },
   "file_extension": ".py",
   "mimetype": "text/x-python",
   "name": "python",
   "nbconvert_exporter": "python",
   "pygments_lexer": "ipython3",
   "version": "3.13.0"
  }
 },
 "nbformat": 4,
 "nbformat_minor": 5
}
