{
 "cells": [
  {
   "cell_type": "code",
   "execution_count": 1,
   "id": "a9efaba5",
   "metadata": {},
   "outputs": [
    {
     "name": "stdout",
     "output_type": "stream",
     "text": [
      "hello world\n"
     ]
    }
   ],
   "source": [
    "print('hello world')"
   ]
  },
  {
   "cell_type": "code",
   "execution_count": 2,
   "id": "c901e992",
   "metadata": {},
   "outputs": [],
   "source": [
    "# definindo uma funcao\n",
    "def primeiraFunc():\n",
    "    print('hello world')"
   ]
  },
  {
   "cell_type": "code",
   "execution_count": 3,
   "id": "e4d62889",
   "metadata": {},
   "outputs": [
    {
     "name": "stdout",
     "output_type": "stream",
     "text": [
      "hello world\n"
     ]
    }
   ],
   "source": [
    "primeiraFunc()"
   ]
  },
  {
   "cell_type": "code",
   "execution_count": 6,
   "id": "e0d4f8e3",
   "metadata": {},
   "outputs": [],
   "source": [
    "#definindo uma funcao\n",
    "def primeiraFunc():\n",
    "    nome = 'bob'\n",
    "    print('hello %s' %nome)"
   ]
  },
  {
   "cell_type": "code",
   "execution_count": 7,
   "id": "49e154d9",
   "metadata": {},
   "outputs": [
    {
     "name": "stdout",
     "output_type": "stream",
     "text": [
      "hello bob\n"
     ]
    }
   ],
   "source": [
    "primeiraFunc()"
   ]
  },
  {
   "cell_type": "code",
   "execution_count": 11,
   "id": "19dcb2db",
   "metadata": {},
   "outputs": [],
   "source": [
    "# definindo funcao com parametro\n",
    "def segundaF(nome):\n",
    "    print('hello %s'%nome)\n",
    "    "
   ]
  },
  {
   "cell_type": "code",
   "execution_count": 12,
   "id": "86588700",
   "metadata": {},
   "outputs": [
    {
     "name": "stdout",
     "output_type": "stream",
     "text": [
      "hello aluno\n"
     ]
    }
   ],
   "source": [
    "segundaF('aluno')"
   ]
  },
  {
   "cell_type": "code",
   "execution_count": 9,
   "id": "baf8414f",
   "metadata": {},
   "outputs": [],
   "source": [
    "# funcao para imprimir numeros\n",
    "def imprimeN():\n",
    "    for i in range(0,5):\n",
    "        print('numero' + str(i))"
   ]
  },
  {
   "cell_type": "code",
   "execution_count": 10,
   "id": "00c6bff4",
   "metadata": {},
   "outputs": [
    {
     "name": "stdout",
     "output_type": "stream",
     "text": [
      "numero0\n",
      "numero1\n",
      "numero2\n",
      "numero3\n",
      "numero4\n"
     ]
    }
   ],
   "source": [
    "imprimeN()"
   ]
  },
  {
   "cell_type": "code",
   "execution_count": 33,
   "id": "f1773a0c",
   "metadata": {},
   "outputs": [],
   "source": [
    "# funcao para somar numero\n",
    "def addn(n1,n2):\n",
    "    print('primeiro numero: ' + str(n1))\n",
    "    print('primeiro numero: ' + str(n2))\n",
    "    print('soma: ' , n1 + n2)\n",
    "    "
   ]
  },
  {
   "cell_type": "code",
   "execution_count": 34,
   "id": "5825b702",
   "metadata": {},
   "outputs": [
    {
     "name": "stdout",
     "output_type": "stream",
     "text": [
      "primeiro numero: 45\n",
      "primeiro numero: 3\n",
      "soma:  48\n"
     ]
    }
   ],
   "source": [
    "#chamando a funcao e passando parametros\n",
    "addn(45, 3)"
   ]
  },
  {
   "cell_type": "code",
   "execution_count": 35,
   "id": "9b8863c5",
   "metadata": {},
   "outputs": [
    {
     "name": "stdout",
     "output_type": "stream",
     "text": [
      "primeiro numero: 4\n",
      "primeiro numero: 7\n",
      "soma:  11\n"
     ]
    }
   ],
   "source": [
    "addn(4, 7)"
   ]
  },
  {
   "cell_type": "code",
   "execution_count": 43,
   "id": "6060abc8",
   "metadata": {},
   "outputs": [],
   "source": [
    "#funcoes com numero variavel de argumentos\n",
    "def printvarInfo(arg1, *vartuple):\n",
    "    print(\"parametro passado foi: \", arg1)\n",
    "    \n",
    "    for item in vartuple:\n",
    "        print(\"parametro variavel: \", item)\n",
    "    return\n",
    "    "
   ]
  },
  {
   "cell_type": "code",
   "execution_count": null,
   "id": "0b256145",
   "metadata": {},
   "outputs": [
    {
     "name": "stdout",
     "output_type": "stream",
     "text": [
      "parametro passado foi:  10\n"
     ]
    }
   ],
   "source": [
    "printvarInfo(10)"
   ]
  },
  {
   "cell_type": "code",
   "execution_count": 47,
   "id": "d649e609",
   "metadata": {},
   "outputs": [
    {
     "name": "stdout",
     "output_type": "stream",
     "text": [
      "parametro passado foi:  chocolate\n",
      "parametro variavel:  morango\n"
     ]
    }
   ],
   "source": [
    "printvarInfo('chocolate', 'morango')\n"
   ]
  },
  {
   "cell_type": "code",
   "execution_count": 49,
   "id": "e613cb25",
   "metadata": {},
   "outputs": [
    {
     "name": "stdout",
     "output_type": "stream",
     "text": [
      "parametro passado foi:  alice\n",
      "parametro variavel:  nogueira\n",
      "parametro variavel:  brasil\n"
     ]
    }
   ],
   "source": [
    "printvarInfo('alice', 'nogueira', 'brasil')"
   ]
  },
  {
   "cell_type": "code",
   "execution_count": 37,
   "id": "54a85b44",
   "metadata": {},
   "outputs": [],
   "source": [
    "## Escopo de variavel - local e global\n",
    "\n",
    "# variavel global\n",
    "var_global =  10\n",
    "\n",
    "# funcao \n",
    "def multiplica_numeros(n1,n2):\n",
    "    var_global= n1 * n2\n",
    "    print(var_global)"
   ]
  },
  {
   "cell_type": "code",
   "execution_count": 38,
   "id": "69b95d23",
   "metadata": {},
   "outputs": [
    {
     "name": "stdout",
     "output_type": "stream",
     "text": [
      "125\n",
      "10\n"
     ]
    }
   ],
   "source": [
    "multiplica_numeros(5,25)\n",
    "print(var_global)"
   ]
  },
  {
   "cell_type": "code",
   "execution_count": 41,
   "id": "baec6cdc",
   "metadata": {},
   "outputs": [],
   "source": [
    "# variavel global\n",
    "var_global = 10 \n",
    "\n",
    "def multiplica_numeros(n1,n2):\n",
    "    var_local = n1*n2\n",
    "    print(var_local)\n",
    "    \n"
   ]
  },
  {
   "cell_type": "code",
   "execution_count": 42,
   "id": "f42c9d97",
   "metadata": {},
   "outputs": [
    {
     "name": "stdout",
     "output_type": "stream",
     "text": [
      "125\n"
     ]
    },
    {
     "ename": "NameError",
     "evalue": "name 'var_local' is not defined",
     "output_type": "error",
     "traceback": [
      "\u001b[31m---------------------------------------------------------------------------\u001b[39m",
      "\u001b[31mNameError\u001b[39m                                 Traceback (most recent call last)",
      "\u001b[36mCell\u001b[39m\u001b[36m \u001b[39m\u001b[32mIn[42]\u001b[39m\u001b[32m, line 2\u001b[39m\n\u001b[32m      1\u001b[39m multiplica_numeros(\u001b[32m5\u001b[39m,\u001b[32m25\u001b[39m)\n\u001b[32m----> \u001b[39m\u001b[32m2\u001b[39m \u001b[38;5;28mprint\u001b[39m(\u001b[43mvar_local\u001b[49m)\n",
      "\u001b[31mNameError\u001b[39m: name 'var_local' is not defined"
     ]
    }
   ],
   "source": [
    "multiplica_numeros(5,25)\n",
    "print(var_local)"
   ]
  },
  {
   "cell_type": "code",
   "execution_count": null,
   "id": "e6b751e5",
   "metadata": {},
   "outputs": [],
   "source": []
  },
  {
   "cell_type": "code",
   "execution_count": null,
   "id": "93d52b96",
   "metadata": {},
   "outputs": [],
   "source": []
  },
  {
   "cell_type": "code",
   "execution_count": null,
   "id": "fe02a450",
   "metadata": {},
   "outputs": [],
   "source": []
  },
  {
   "cell_type": "code",
   "execution_count": null,
   "id": "5d0cc953",
   "metadata": {},
   "outputs": [],
   "source": []
  }
 ],
 "metadata": {
  "kernelspec": {
   "display_name": "Python 3",
   "language": "python",
   "name": "python3"
  },
  "language_info": {
   "codemirror_mode": {
    "name": "ipython",
    "version": 3
   },
   "file_extension": ".py",
   "mimetype": "text/x-python",
   "name": "python",
   "nbconvert_exporter": "python",
   "pygments_lexer": "ipython3",
   "version": "3.13.0"
  }
 },
 "nbformat": 4,
 "nbformat_minor": 5
}
