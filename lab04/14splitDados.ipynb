{
 "cells": [
  {
   "cell_type": "code",
   "execution_count": 7,
   "id": "9afcdc37",
   "metadata": {},
   "outputs": [],
   "source": [
    "#fazendo split dados\n",
    "def split_string_palavra(text):\n",
    "    return text.split(\" \")"
   ]
  },
  {
   "cell_type": "code",
   "execution_count": 8,
   "id": "0ed8461c",
   "metadata": {},
   "outputs": [],
   "source": [
    "texto = 'esta funcao sera bastante util para separar grandes volumes de dados'"
   ]
  },
  {
   "cell_type": "code",
   "execution_count": 9,
   "id": "30c0b0b6",
   "metadata": {},
   "outputs": [
    {
     "name": "stdout",
     "output_type": "stream",
     "text": [
      "['esta', 'funcao', 'sera', 'bastante', 'util', 'para', 'separar', 'grandes', 'volumes', 'de', 'dados']\n"
     ]
    }
   ],
   "source": [
    "# divide a string em uma lista de palavras\n",
    "print(split_string_palavra(texto))"
   ]
  },
  {
   "cell_type": "code",
   "execution_count": 11,
   "id": "1a942b72",
   "metadata": {},
   "outputs": [],
   "source": [
    "token = split_string_palavra(texto)"
   ]
  },
  {
   "cell_type": "code",
   "execution_count": 12,
   "id": "9805a0a8",
   "metadata": {},
   "outputs": [
    {
     "data": {
      "text/plain": [
       "['esta',\n",
       " 'funcao',\n",
       " 'sera',\n",
       " 'bastante',\n",
       " 'util',\n",
       " 'para',\n",
       " 'separar',\n",
       " 'grandes',\n",
       " 'volumes',\n",
       " 'de',\n",
       " 'dados']"
      ]
     },
     "execution_count": 12,
     "metadata": {},
     "output_type": "execute_result"
    }
   ],
   "source": [
    "token"
   ]
  },
  {
   "cell_type": "code",
   "execution_count": 13,
   "id": "abea00c2",
   "metadata": {},
   "outputs": [],
   "source": [
    "# fazendo split dos dados\n",
    "def split_letras(text):\n",
    "    texto = text.upper()\n",
    "    for letra in texto:\n",
    "        print(letra)"
   ]
  },
  {
   "cell_type": "code",
   "execution_count": 14,
   "id": "b8ababfe",
   "metadata": {},
   "outputs": [
    {
     "name": "stdout",
     "output_type": "stream",
     "text": [
      "E\n",
      "S\n",
      "T\n",
      "A\n",
      " \n",
      "F\n",
      "U\n",
      "N\n",
      "C\n",
      "A\n",
      "O\n",
      " \n",
      "S\n",
      "E\n",
      "R\n",
      "A\n",
      " \n",
      "B\n",
      "A\n",
      "S\n",
      "T\n",
      "A\n",
      "N\n",
      "T\n",
      "E\n",
      " \n",
      "U\n",
      "T\n",
      "I\n",
      "L\n",
      " \n",
      "P\n",
      "A\n",
      "R\n",
      "A\n",
      " \n",
      "S\n",
      "E\n",
      "P\n",
      "A\n",
      "R\n",
      "A\n",
      "R\n",
      " \n",
      "G\n",
      "R\n",
      "A\n",
      "N\n",
      "D\n",
      "E\n",
      "S\n",
      " \n",
      "V\n",
      "O\n",
      "L\n",
      "U\n",
      "M\n",
      "E\n",
      "S\n",
      " \n",
      "D\n",
      "E\n",
      " \n",
      "D\n",
      "A\n",
      "D\n",
      "O\n",
      "S\n"
     ]
    }
   ],
   "source": [
    "split_letras(texto)"
   ]
  },
  {
   "cell_type": "code",
   "execution_count": null,
   "id": "7ab2c428",
   "metadata": {},
   "outputs": [],
   "source": []
  },
  {
   "cell_type": "code",
   "execution_count": null,
   "id": "e871318c",
   "metadata": {},
   "outputs": [],
   "source": []
  },
  {
   "cell_type": "code",
   "execution_count": null,
   "id": "b7f117b7",
   "metadata": {},
   "outputs": [],
   "source": []
  },
  {
   "cell_type": "code",
   "execution_count": null,
   "id": "4ef3ddee",
   "metadata": {},
   "outputs": [],
   "source": []
  },
  {
   "cell_type": "code",
   "execution_count": null,
   "id": "11b90932",
   "metadata": {},
   "outputs": [],
   "source": []
  },
  {
   "cell_type": "code",
   "execution_count": null,
   "id": "f6796940",
   "metadata": {},
   "outputs": [],
   "source": []
  }
 ],
 "metadata": {
  "kernelspec": {
   "display_name": "Python 3",
   "language": "python",
   "name": "python3"
  },
  "language_info": {
   "codemirror_mode": {
    "name": "ipython",
    "version": 3
   },
   "file_extension": ".py",
   "mimetype": "text/x-python",
   "name": "python",
   "nbconvert_exporter": "python",
   "pygments_lexer": "ipython3",
   "version": "3.13.0"
  }
 },
 "nbformat": 4,
 "nbformat_minor": 5
}
