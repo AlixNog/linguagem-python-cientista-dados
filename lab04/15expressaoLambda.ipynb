{
 "cells": [
  {
   "cell_type": "code",
   "execution_count": 1,
   "id": "bb1938f8",
   "metadata": {},
   "outputs": [],
   "source": [
    "# definindo uma funcao - 3 linhas de codigo\n",
    "def potencia(num):\n",
    "    resultado = num ** 2\n",
    "    return resultado"
   ]
  },
  {
   "cell_type": "code",
   "execution_count": 2,
   "id": "2666a470",
   "metadata": {},
   "outputs": [
    {
     "data": {
      "text/plain": [
       "25"
      ]
     },
     "execution_count": 2,
     "metadata": {},
     "output_type": "execute_result"
    }
   ],
   "source": [
    "potencia(5)"
   ]
  },
  {
   "cell_type": "code",
   "execution_count": 3,
   "id": "ec63ac7e",
   "metadata": {},
   "outputs": [],
   "source": [
    "# definindo uma funcao - 2 linhas de codigo\n",
    "def potencia (num):\n",
    "    return num ** 2 \n"
   ]
  },
  {
   "cell_type": "code",
   "execution_count": 4,
   "id": "92c7996c",
   "metadata": {},
   "outputs": [
    {
     "data": {
      "text/plain": [
       "25"
      ]
     },
     "execution_count": 4,
     "metadata": {},
     "output_type": "execute_result"
    }
   ],
   "source": [
    "potencia(5)"
   ]
  },
  {
   "cell_type": "code",
   "execution_count": 5,
   "id": "5683eebf",
   "metadata": {},
   "outputs": [],
   "source": [
    "# definindo uma expressao lambda (funcao anonima)\n",
    "potencia = lambda num: num ** 2"
   ]
  },
  {
   "cell_type": "code",
   "execution_count": 6,
   "id": "62376716",
   "metadata": {},
   "outputs": [
    {
     "data": {
      "text/plain": [
       "25"
      ]
     },
     "execution_count": 6,
     "metadata": {},
     "output_type": "execute_result"
    }
   ],
   "source": [
    "potencia(5)"
   ]
  },
  {
   "cell_type": "code",
   "execution_count": 7,
   "id": "65e0181d",
   "metadata": {},
   "outputs": [],
   "source": [
    "# lembrete : operadores de comparacao retornam boolean: true or false\n",
    "par = lambda num: num % 2 == 0"
   ]
  },
  {
   "cell_type": "code",
   "execution_count": 8,
   "id": "6ff13779",
   "metadata": {},
   "outputs": [
    {
     "data": {
      "text/plain": [
       "False"
      ]
     },
     "execution_count": 8,
     "metadata": {},
     "output_type": "execute_result"
    }
   ],
   "source": [
    "par(3)"
   ]
  },
  {
   "cell_type": "code",
   "execution_count": 9,
   "id": "6eec5365",
   "metadata": {},
   "outputs": [
    {
     "data": {
      "text/plain": [
       "True"
      ]
     },
     "execution_count": 9,
     "metadata": {},
     "output_type": "execute_result"
    }
   ],
   "source": [
    "par(4)"
   ]
  },
  {
   "cell_type": "code",
   "execution_count": 10,
   "id": "4a5230f1",
   "metadata": {},
   "outputs": [],
   "source": [
    "first = lambda s: s[0]"
   ]
  },
  {
   "cell_type": "code",
   "execution_count": 11,
   "id": "c58c4166",
   "metadata": {},
   "outputs": [
    {
     "data": {
      "text/plain": [
       "'p'"
      ]
     },
     "execution_count": 11,
     "metadata": {},
     "output_type": "execute_result"
    }
   ],
   "source": [
    "first('python')"
   ]
  },
  {
   "cell_type": "code",
   "execution_count": 12,
   "id": "36fb65ec",
   "metadata": {},
   "outputs": [],
   "source": [
    "reverso = lambda s: s[::-1]"
   ]
  },
  {
   "cell_type": "code",
   "execution_count": 13,
   "id": "8ed56948",
   "metadata": {},
   "outputs": [
    {
     "data": {
      "text/plain": [
       "'nhotyp'"
      ]
     },
     "execution_count": 13,
     "metadata": {},
     "output_type": "execute_result"
    }
   ],
   "source": [
    "reverso('pytohn')"
   ]
  },
  {
   "cell_type": "code",
   "execution_count": 14,
   "id": "6fc00008",
   "metadata": {},
   "outputs": [],
   "source": [
    "addNum = lambda x,y : x+y"
   ]
  },
  {
   "cell_type": "code",
   "execution_count": 15,
   "id": "688774c7",
   "metadata": {},
   "outputs": [
    {
     "data": {
      "text/plain": [
       "5"
      ]
     },
     "execution_count": 15,
     "metadata": {},
     "output_type": "execute_result"
    }
   ],
   "source": [
    "addNum(2,3)"
   ]
  }
 ],
 "metadata": {
  "kernelspec": {
   "display_name": "Python 3",
   "language": "python",
   "name": "python3"
  },
  "language_info": {
   "codemirror_mode": {
    "name": "ipython",
    "version": 3
   },
   "file_extension": ".py",
   "mimetype": "text/x-python",
   "name": "python",
   "nbconvert_exporter": "python",
   "pygments_lexer": "ipython3",
   "version": "3.13.0"
  }
 },
 "nbformat": 4,
 "nbformat_minor": 5
}
